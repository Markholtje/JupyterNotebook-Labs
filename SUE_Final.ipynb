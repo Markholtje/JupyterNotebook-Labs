{
  "nbformat": 4,
  "nbformat_minor": 0,
  "metadata": {
    "colab": {
      "name": "SUE Final",
      "provenance": [],
      "collapsed_sections": [],
      "include_colab_link": true
    },
    "kernelspec": {
      "name": "python3",
      "display_name": "Python 3"
    }
  },
  "cells": [
    {
      "cell_type": "markdown",
      "metadata": {
        "id": "view-in-github",
        "colab_type": "text"
      },
      "source": [
        "<a href=\"https://colab.research.google.com/github/Markholtje/JupyterNotebook-Labs/blob/master/SUE_Final.ipynb\" target=\"_parent\"><img src=\"https://colab.research.google.com/assets/colab-badge.svg\" alt=\"Open In Colab\"/></a>"
      ]
    },
    {
      "cell_type": "code",
      "metadata": {
        "id": "pM0ewJW7IQob",
        "colab_type": "code",
        "outputId": "4638657d-c4fe-4b1f-ee23-87222b5a9ac8",
        "colab": {
          "base_uri": "https://localhost:8080/",
          "height": 275
        }
      },
      "source": [
        "pip install geopandas"
      ],
      "execution_count": 0,
      "outputs": [
        {
          "output_type": "stream",
          "text": [
            "Requirement already satisfied: geopandas in /usr/local/lib/python3.6/dist-packages (0.7.0)\n",
            "Requirement already satisfied: pyproj>=2.2.0 in /usr/local/lib/python3.6/dist-packages (from geopandas) (2.6.1.post1)\n",
            "Requirement already satisfied: pandas>=0.23.0 in /usr/local/lib/python3.6/dist-packages (from geopandas) (1.0.3)\n",
            "Requirement already satisfied: fiona in /usr/local/lib/python3.6/dist-packages (from geopandas) (1.8.13.post1)\n",
            "Requirement already satisfied: shapely in /usr/local/lib/python3.6/dist-packages (from geopandas) (1.7.0)\n",
            "Requirement already satisfied: pytz>=2017.2 in /usr/local/lib/python3.6/dist-packages (from pandas>=0.23.0->geopandas) (2018.9)\n",
            "Requirement already satisfied: numpy>=1.13.3 in /usr/local/lib/python3.6/dist-packages (from pandas>=0.23.0->geopandas) (1.18.4)\n",
            "Requirement already satisfied: python-dateutil>=2.6.1 in /usr/local/lib/python3.6/dist-packages (from pandas>=0.23.0->geopandas) (2.8.1)\n",
            "Requirement already satisfied: attrs>=17 in /usr/local/lib/python3.6/dist-packages (from fiona->geopandas) (19.3.0)\n",
            "Requirement already satisfied: cligj>=0.5 in /usr/local/lib/python3.6/dist-packages (from fiona->geopandas) (0.5.0)\n",
            "Requirement already satisfied: munch in /usr/local/lib/python3.6/dist-packages (from fiona->geopandas) (2.5.0)\n",
            "Requirement already satisfied: click<8,>=4.0 in /usr/local/lib/python3.6/dist-packages (from fiona->geopandas) (7.1.2)\n",
            "Requirement already satisfied: six>=1.7 in /usr/local/lib/python3.6/dist-packages (from fiona->geopandas) (1.12.0)\n",
            "Requirement already satisfied: click-plugins>=1.0 in /usr/local/lib/python3.6/dist-packages (from fiona->geopandas) (1.1.1)\n"
          ],
          "name": "stdout"
        }
      ]
    },
    {
      "cell_type": "code",
      "metadata": {
        "id": "dtaxmaQkRCcB",
        "colab_type": "code",
        "colab": {}
      },
      "source": [
        "import geopandas as gpd"
      ],
      "execution_count": 0,
      "outputs": []
    },
    {
      "cell_type": "code",
      "metadata": {
        "id": "cWCNjwMSYZEI",
        "colab_type": "code",
        "colab": {}
      },
      "source": [
        "import pandas as pd"
      ],
      "execution_count": 0,
      "outputs": []
    },
    {
      "cell_type": "code",
      "metadata": {
        "id": "DDRsLwYZfDHN",
        "colab_type": "code",
        "outputId": "b628c953-39ec-4f8e-cf9c-57708f9cbe1e",
        "colab": {
          "base_uri": "https://localhost:8080/",
          "height": 54
        }
      },
      "source": [
        "from google.colab import drive\n",
        "drive.mount('/content/drive')"
      ],
      "execution_count": 0,
      "outputs": [
        {
          "output_type": "stream",
          "text": [
            "Drive already mounted at /content/drive; to attempt to forcibly remount, call drive.mount(\"/content/drive\", force_remount=True).\n"
          ],
          "name": "stdout"
        }
      ]
    },
    {
      "cell_type": "code",
      "metadata": {
        "id": "qv5dLv8p0vmd",
        "colab_type": "code",
        "outputId": "9f9ffff0-de26-45bf-d90f-fc4e65b1bc0b",
        "colab": {
          "base_uri": "https://localhost:8080/",
          "height": 412
        }
      },
      "source": [
        "#MARC's PATH:\n",
        "#path = \"/content/drive/My Drive/Second Year (NYU)/Spring 2020 (2nd Year)/Computing for SUE/Final Project/Datasets/MapPLUTO - Optimized.csv\"\n",
        "#Alex's PATH:\n",
        "#path = \"/content/drive/My Drive/Final Project/Datasets/MapPLUTO - Optimized.csv\"\n",
        "#ALAN's PATH:\n",
        "#path = \"drive/My Drive/sue/MapPLUTO - Optimized.csv\"\n",
        "housing = pd.read_csv(path)\n"
      ],
      "execution_count": 0,
      "outputs": [
        {
          "output_type": "error",
          "ename": "FileNotFoundError",
          "evalue": "ignored",
          "traceback": [
            "\u001b[0;31m---------------------------------------------------------------------------\u001b[0m",
            "\u001b[0;31mFileNotFoundError\u001b[0m                         Traceback (most recent call last)",
            "\u001b[0;32m<ipython-input-7-acce4b00c942>\u001b[0m in \u001b[0;36m<module>\u001b[0;34m()\u001b[0m\n\u001b[1;32m      1\u001b[0m \u001b[0mpath\u001b[0m \u001b[0;34m=\u001b[0m \u001b[0;34m\"drive/My Drive/sue/MapPLUTO - Optimized.csv\"\u001b[0m\u001b[0;34m\u001b[0m\u001b[0;34m\u001b[0m\u001b[0m\n\u001b[0;32m----> 2\u001b[0;31m \u001b[0mhousing\u001b[0m \u001b[0;34m=\u001b[0m \u001b[0mpd\u001b[0m\u001b[0;34m.\u001b[0m\u001b[0mread_csv\u001b[0m\u001b[0;34m(\u001b[0m\u001b[0mpath\u001b[0m\u001b[0;34m)\u001b[0m\u001b[0;34m\u001b[0m\u001b[0;34m\u001b[0m\u001b[0m\n\u001b[0m",
            "\u001b[0;32m/usr/local/lib/python3.6/dist-packages/pandas/io/parsers.py\u001b[0m in \u001b[0;36mparser_f\u001b[0;34m(filepath_or_buffer, sep, delimiter, header, names, index_col, usecols, squeeze, prefix, mangle_dupe_cols, dtype, engine, converters, true_values, false_values, skipinitialspace, skiprows, skipfooter, nrows, na_values, keep_default_na, na_filter, verbose, skip_blank_lines, parse_dates, infer_datetime_format, keep_date_col, date_parser, dayfirst, cache_dates, iterator, chunksize, compression, thousands, decimal, lineterminator, quotechar, quoting, doublequote, escapechar, comment, encoding, dialect, error_bad_lines, warn_bad_lines, delim_whitespace, low_memory, memory_map, float_precision)\u001b[0m\n\u001b[1;32m    674\u001b[0m         )\n\u001b[1;32m    675\u001b[0m \u001b[0;34m\u001b[0m\u001b[0m\n\u001b[0;32m--> 676\u001b[0;31m         \u001b[0;32mreturn\u001b[0m \u001b[0m_read\u001b[0m\u001b[0;34m(\u001b[0m\u001b[0mfilepath_or_buffer\u001b[0m\u001b[0;34m,\u001b[0m \u001b[0mkwds\u001b[0m\u001b[0;34m)\u001b[0m\u001b[0;34m\u001b[0m\u001b[0;34m\u001b[0m\u001b[0m\n\u001b[0m\u001b[1;32m    677\u001b[0m \u001b[0;34m\u001b[0m\u001b[0m\n\u001b[1;32m    678\u001b[0m     \u001b[0mparser_f\u001b[0m\u001b[0;34m.\u001b[0m\u001b[0m__name__\u001b[0m \u001b[0;34m=\u001b[0m \u001b[0mname\u001b[0m\u001b[0;34m\u001b[0m\u001b[0;34m\u001b[0m\u001b[0m\n",
            "\u001b[0;32m/usr/local/lib/python3.6/dist-packages/pandas/io/parsers.py\u001b[0m in \u001b[0;36m_read\u001b[0;34m(filepath_or_buffer, kwds)\u001b[0m\n\u001b[1;32m    446\u001b[0m \u001b[0;34m\u001b[0m\u001b[0m\n\u001b[1;32m    447\u001b[0m     \u001b[0;31m# Create the parser.\u001b[0m\u001b[0;34m\u001b[0m\u001b[0;34m\u001b[0m\u001b[0;34m\u001b[0m\u001b[0m\n\u001b[0;32m--> 448\u001b[0;31m     \u001b[0mparser\u001b[0m \u001b[0;34m=\u001b[0m \u001b[0mTextFileReader\u001b[0m\u001b[0;34m(\u001b[0m\u001b[0mfp_or_buf\u001b[0m\u001b[0;34m,\u001b[0m \u001b[0;34m**\u001b[0m\u001b[0mkwds\u001b[0m\u001b[0;34m)\u001b[0m\u001b[0;34m\u001b[0m\u001b[0;34m\u001b[0m\u001b[0m\n\u001b[0m\u001b[1;32m    449\u001b[0m \u001b[0;34m\u001b[0m\u001b[0m\n\u001b[1;32m    450\u001b[0m     \u001b[0;32mif\u001b[0m \u001b[0mchunksize\u001b[0m \u001b[0;32mor\u001b[0m \u001b[0miterator\u001b[0m\u001b[0;34m:\u001b[0m\u001b[0;34m\u001b[0m\u001b[0;34m\u001b[0m\u001b[0m\n",
            "\u001b[0;32m/usr/local/lib/python3.6/dist-packages/pandas/io/parsers.py\u001b[0m in \u001b[0;36m__init__\u001b[0;34m(self, f, engine, **kwds)\u001b[0m\n\u001b[1;32m    878\u001b[0m             \u001b[0mself\u001b[0m\u001b[0;34m.\u001b[0m\u001b[0moptions\u001b[0m\u001b[0;34m[\u001b[0m\u001b[0;34m\"has_index_names\"\u001b[0m\u001b[0;34m]\u001b[0m \u001b[0;34m=\u001b[0m \u001b[0mkwds\u001b[0m\u001b[0;34m[\u001b[0m\u001b[0;34m\"has_index_names\"\u001b[0m\u001b[0;34m]\u001b[0m\u001b[0;34m\u001b[0m\u001b[0;34m\u001b[0m\u001b[0m\n\u001b[1;32m    879\u001b[0m \u001b[0;34m\u001b[0m\u001b[0m\n\u001b[0;32m--> 880\u001b[0;31m         \u001b[0mself\u001b[0m\u001b[0;34m.\u001b[0m\u001b[0m_make_engine\u001b[0m\u001b[0;34m(\u001b[0m\u001b[0mself\u001b[0m\u001b[0;34m.\u001b[0m\u001b[0mengine\u001b[0m\u001b[0;34m)\u001b[0m\u001b[0;34m\u001b[0m\u001b[0;34m\u001b[0m\u001b[0m\n\u001b[0m\u001b[1;32m    881\u001b[0m \u001b[0;34m\u001b[0m\u001b[0m\n\u001b[1;32m    882\u001b[0m     \u001b[0;32mdef\u001b[0m \u001b[0mclose\u001b[0m\u001b[0;34m(\u001b[0m\u001b[0mself\u001b[0m\u001b[0;34m)\u001b[0m\u001b[0;34m:\u001b[0m\u001b[0;34m\u001b[0m\u001b[0;34m\u001b[0m\u001b[0m\n",
            "\u001b[0;32m/usr/local/lib/python3.6/dist-packages/pandas/io/parsers.py\u001b[0m in \u001b[0;36m_make_engine\u001b[0;34m(self, engine)\u001b[0m\n\u001b[1;32m   1112\u001b[0m     \u001b[0;32mdef\u001b[0m \u001b[0m_make_engine\u001b[0m\u001b[0;34m(\u001b[0m\u001b[0mself\u001b[0m\u001b[0;34m,\u001b[0m \u001b[0mengine\u001b[0m\u001b[0;34m=\u001b[0m\u001b[0;34m\"c\"\u001b[0m\u001b[0;34m)\u001b[0m\u001b[0;34m:\u001b[0m\u001b[0;34m\u001b[0m\u001b[0;34m\u001b[0m\u001b[0m\n\u001b[1;32m   1113\u001b[0m         \u001b[0;32mif\u001b[0m \u001b[0mengine\u001b[0m \u001b[0;34m==\u001b[0m \u001b[0;34m\"c\"\u001b[0m\u001b[0;34m:\u001b[0m\u001b[0;34m\u001b[0m\u001b[0;34m\u001b[0m\u001b[0m\n\u001b[0;32m-> 1114\u001b[0;31m             \u001b[0mself\u001b[0m\u001b[0;34m.\u001b[0m\u001b[0m_engine\u001b[0m \u001b[0;34m=\u001b[0m \u001b[0mCParserWrapper\u001b[0m\u001b[0;34m(\u001b[0m\u001b[0mself\u001b[0m\u001b[0;34m.\u001b[0m\u001b[0mf\u001b[0m\u001b[0;34m,\u001b[0m \u001b[0;34m**\u001b[0m\u001b[0mself\u001b[0m\u001b[0;34m.\u001b[0m\u001b[0moptions\u001b[0m\u001b[0;34m)\u001b[0m\u001b[0;34m\u001b[0m\u001b[0;34m\u001b[0m\u001b[0m\n\u001b[0m\u001b[1;32m   1115\u001b[0m         \u001b[0;32melse\u001b[0m\u001b[0;34m:\u001b[0m\u001b[0;34m\u001b[0m\u001b[0;34m\u001b[0m\u001b[0m\n\u001b[1;32m   1116\u001b[0m             \u001b[0;32mif\u001b[0m \u001b[0mengine\u001b[0m \u001b[0;34m==\u001b[0m \u001b[0;34m\"python\"\u001b[0m\u001b[0;34m:\u001b[0m\u001b[0;34m\u001b[0m\u001b[0;34m\u001b[0m\u001b[0m\n",
            "\u001b[0;32m/usr/local/lib/python3.6/dist-packages/pandas/io/parsers.py\u001b[0m in \u001b[0;36m__init__\u001b[0;34m(self, src, **kwds)\u001b[0m\n\u001b[1;32m   1889\u001b[0m         \u001b[0mkwds\u001b[0m\u001b[0;34m[\u001b[0m\u001b[0;34m\"usecols\"\u001b[0m\u001b[0;34m]\u001b[0m \u001b[0;34m=\u001b[0m \u001b[0mself\u001b[0m\u001b[0;34m.\u001b[0m\u001b[0musecols\u001b[0m\u001b[0;34m\u001b[0m\u001b[0;34m\u001b[0m\u001b[0m\n\u001b[1;32m   1890\u001b[0m \u001b[0;34m\u001b[0m\u001b[0m\n\u001b[0;32m-> 1891\u001b[0;31m         \u001b[0mself\u001b[0m\u001b[0;34m.\u001b[0m\u001b[0m_reader\u001b[0m \u001b[0;34m=\u001b[0m \u001b[0mparsers\u001b[0m\u001b[0;34m.\u001b[0m\u001b[0mTextReader\u001b[0m\u001b[0;34m(\u001b[0m\u001b[0msrc\u001b[0m\u001b[0;34m,\u001b[0m \u001b[0;34m**\u001b[0m\u001b[0mkwds\u001b[0m\u001b[0;34m)\u001b[0m\u001b[0;34m\u001b[0m\u001b[0;34m\u001b[0m\u001b[0m\n\u001b[0m\u001b[1;32m   1892\u001b[0m         \u001b[0mself\u001b[0m\u001b[0;34m.\u001b[0m\u001b[0munnamed_cols\u001b[0m \u001b[0;34m=\u001b[0m \u001b[0mself\u001b[0m\u001b[0;34m.\u001b[0m\u001b[0m_reader\u001b[0m\u001b[0;34m.\u001b[0m\u001b[0munnamed_cols\u001b[0m\u001b[0;34m\u001b[0m\u001b[0;34m\u001b[0m\u001b[0m\n\u001b[1;32m   1893\u001b[0m \u001b[0;34m\u001b[0m\u001b[0m\n",
            "\u001b[0;32mpandas/_libs/parsers.pyx\u001b[0m in \u001b[0;36mpandas._libs.parsers.TextReader.__cinit__\u001b[0;34m()\u001b[0m\n",
            "\u001b[0;32mpandas/_libs/parsers.pyx\u001b[0m in \u001b[0;36mpandas._libs.parsers.TextReader._setup_parser_source\u001b[0;34m()\u001b[0m\n",
            "\u001b[0;31mFileNotFoundError\u001b[0m: [Errno 2] File drive/My Drive/sue/MapPLUTO - Optimized.csv does not exist: 'drive/My Drive/sue/MapPLUTO - Optimized.csv'"
          ]
        }
      ]
    },
    {
      "cell_type": "code",
      "metadata": {
        "id": "qvA8H9y-PkrJ",
        "colab_type": "code",
        "outputId": "62aa3c71-b6e8-48c7-a494-ba2be54cdc3f",
        "colab": {
          "base_uri": "https://localhost:8080/",
          "height": 361
        }
      },
      "source": [
        "housing.head()"
      ],
      "execution_count": 0,
      "outputs": [
        {
          "output_type": "execute_result",
          "data": {
            "text/html": [
              "<div>\n",
              "<style scoped>\n",
              "    .dataframe tbody tr th:only-of-type {\n",
              "        vertical-align: middle;\n",
              "    }\n",
              "\n",
              "    .dataframe tbody tr th {\n",
              "        vertical-align: top;\n",
              "    }\n",
              "\n",
              "    .dataframe thead th {\n",
              "        text-align: right;\n",
              "    }\n",
              "</style>\n",
              "<table border=\"1\" class=\"dataframe\">\n",
              "  <thead>\n",
              "    <tr style=\"text-align: right;\">\n",
              "      <th></th>\n",
              "      <th>Borough</th>\n",
              "      <th>Block</th>\n",
              "      <th>Lot</th>\n",
              "      <th>CD</th>\n",
              "      <th>CT2010</th>\n",
              "      <th>CB2010</th>\n",
              "      <th>SchoolDist</th>\n",
              "      <th>Council</th>\n",
              "      <th>ZipCode</th>\n",
              "      <th>Address</th>\n",
              "      <th>BldgClass</th>\n",
              "      <th>LandUse</th>\n",
              "      <th>OwnerType</th>\n",
              "      <th>OwnerName</th>\n",
              "      <th>LotArea</th>\n",
              "      <th>BldgArea</th>\n",
              "      <th>ResArea</th>\n",
              "      <th>NumBldgs</th>\n",
              "      <th>NumFloors</th>\n",
              "      <th>UnitsRes</th>\n",
              "      <th>UnitsTotal</th>\n",
              "      <th>LotType</th>\n",
              "      <th>AssessLand</th>\n",
              "      <th>AssessTot</th>\n",
              "      <th>ExemptTot</th>\n",
              "      <th>YearBuilt</th>\n",
              "      <th>YearAlter1</th>\n",
              "      <th>YearAlter2</th>\n",
              "      <th>BuiltFAR</th>\n",
              "      <th>ResidFAR</th>\n",
              "      <th>BoroCode</th>\n",
              "      <th>BBL</th>\n",
              "      <th>CondoNo</th>\n",
              "      <th>Tract2010</th>\n",
              "      <th>XCoord</th>\n",
              "      <th>YCoord</th>\n",
              "      <th>ZoneMap</th>\n",
              "      <th>ZMCode</th>\n",
              "      <th>TaxMap</th>\n",
              "      <th>Latitude</th>\n",
              "      <th>Longitude</th>\n",
              "      <th>Shape_Leng</th>\n",
              "      <th>Shape_Area</th>\n",
              "      <th>Land$/sqft</th>\n",
              "      <th>Bldg$/sqft</th>\n",
              "    </tr>\n",
              "  </thead>\n",
              "  <tbody>\n",
              "    <tr>\n",
              "      <th>0</th>\n",
              "      <td>BK</td>\n",
              "      <td>5527</td>\n",
              "      <td>50</td>\n",
              "      <td>311</td>\n",
              "      <td>246.00</td>\n",
              "      <td>2000.0</td>\n",
              "      <td>20.0</td>\n",
              "      <td>47</td>\n",
              "      <td>11204</td>\n",
              "      <td>1965 62 STREET</td>\n",
              "      <td>A5</td>\n",
              "      <td>1.0</td>\n",
              "      <td>NaN</td>\n",
              "      <td>XIE, JOSEPH JIANDONG</td>\n",
              "      <td>1800</td>\n",
              "      <td>1440</td>\n",
              "      <td>1440</td>\n",
              "      <td>1</td>\n",
              "      <td>2.0</td>\n",
              "      <td>1</td>\n",
              "      <td>1</td>\n",
              "      <td>5</td>\n",
              "      <td>17880.0</td>\n",
              "      <td>57960.0</td>\n",
              "      <td>0.0</td>\n",
              "      <td>1925</td>\n",
              "      <td>1999</td>\n",
              "      <td>0</td>\n",
              "      <td>0.80</td>\n",
              "      <td>1.25</td>\n",
              "      <td>3</td>\n",
              "      <td>3.055270e+09</td>\n",
              "      <td>0</td>\n",
              "      <td>246.0</td>\n",
              "      <td>988564</td>\n",
              "      <td>164706</td>\n",
              "      <td>22d</td>\n",
              "      <td>NaN</td>\n",
              "      <td>31703.0</td>\n",
              "      <td>40.618755</td>\n",
              "      <td>-73.984461</td>\n",
              "      <td>240.542515</td>\n",
              "      <td>1886.597524</td>\n",
              "      <td>9.93</td>\n",
              "      <td>40.25</td>\n",
              "    </tr>\n",
              "    <tr>\n",
              "      <th>1</th>\n",
              "      <td>SI</td>\n",
              "      <td>5094</td>\n",
              "      <td>26</td>\n",
              "      <td>503</td>\n",
              "      <td>132.03</td>\n",
              "      <td>1013.0</td>\n",
              "      <td>31.0</td>\n",
              "      <td>51</td>\n",
              "      <td>10306</td>\n",
              "      <td>289 DURANT AVENUE</td>\n",
              "      <td>B2</td>\n",
              "      <td>1.0</td>\n",
              "      <td>NaN</td>\n",
              "      <td>MARC BOSHNACK</td>\n",
              "      <td>6000</td>\n",
              "      <td>2232</td>\n",
              "      <td>2232</td>\n",
              "      <td>1</td>\n",
              "      <td>2.0</td>\n",
              "      <td>2</td>\n",
              "      <td>2</td>\n",
              "      <td>5</td>\n",
              "      <td>14460.0</td>\n",
              "      <td>45600.0</td>\n",
              "      <td>0.0</td>\n",
              "      <td>1975</td>\n",
              "      <td>0</td>\n",
              "      <td>0</td>\n",
              "      <td>0.37</td>\n",
              "      <td>0.50</td>\n",
              "      <td>5</td>\n",
              "      <td>5.050940e+09</td>\n",
              "      <td>0</td>\n",
              "      <td>13203.0</td>\n",
              "      <td>946374</td>\n",
              "      <td>140904</td>\n",
              "      <td>33c</td>\n",
              "      <td>NaN</td>\n",
              "      <td>52201.0</td>\n",
              "      <td>40.553344</td>\n",
              "      <td>-74.136298</td>\n",
              "      <td>326.646564</td>\n",
              "      <td>6214.094994</td>\n",
              "      <td>2.41</td>\n",
              "      <td>20.43</td>\n",
              "    </tr>\n",
              "    <tr>\n",
              "      <th>2</th>\n",
              "      <td>BX</td>\n",
              "      <td>4649</td>\n",
              "      <td>74</td>\n",
              "      <td>212</td>\n",
              "      <td>392.00</td>\n",
              "      <td>1001.0</td>\n",
              "      <td>11.0</td>\n",
              "      <td>12</td>\n",
              "      <td>10467</td>\n",
              "      <td>3719 OLINVILLE AVENUE</td>\n",
              "      <td>A1</td>\n",
              "      <td>1.0</td>\n",
              "      <td>NaN</td>\n",
              "      <td>DARAKJIAN, NINA</td>\n",
              "      <td>4750</td>\n",
              "      <td>1968</td>\n",
              "      <td>1968</td>\n",
              "      <td>3</td>\n",
              "      <td>2.5</td>\n",
              "      <td>1</td>\n",
              "      <td>1</td>\n",
              "      <td>5</td>\n",
              "      <td>11520.0</td>\n",
              "      <td>39060.0</td>\n",
              "      <td>3210.0</td>\n",
              "      <td>1925</td>\n",
              "      <td>0</td>\n",
              "      <td>0</td>\n",
              "      <td>0.41</td>\n",
              "      <td>1.10</td>\n",
              "      <td>2</td>\n",
              "      <td>2.046490e+09</td>\n",
              "      <td>0</td>\n",
              "      <td>392.0</td>\n",
              "      <td>1021247</td>\n",
              "      <td>260865</td>\n",
              "      <td>2b</td>\n",
              "      <td>NaN</td>\n",
              "      <td>21607.0</td>\n",
              "      <td>40.882611</td>\n",
              "      <td>-73.866206</td>\n",
              "      <td>281.671351</td>\n",
              "      <td>4404.130503</td>\n",
              "      <td>2.43</td>\n",
              "      <td>19.85</td>\n",
              "    </tr>\n",
              "    <tr>\n",
              "      <th>3</th>\n",
              "      <td>QN</td>\n",
              "      <td>1597</td>\n",
              "      <td>27</td>\n",
              "      <td>404</td>\n",
              "      <td>465.00</td>\n",
              "      <td>1005.0</td>\n",
              "      <td>24.0</td>\n",
              "      <td>21</td>\n",
              "      <td>11373</td>\n",
              "      <td>95-17 42 AVENUE</td>\n",
              "      <td>B1</td>\n",
              "      <td>1.0</td>\n",
              "      <td>NaN</td>\n",
              "      <td>MIZHQUIRI, DANIEL  S</td>\n",
              "      <td>2340</td>\n",
              "      <td>2240</td>\n",
              "      <td>2240</td>\n",
              "      <td>2</td>\n",
              "      <td>2.0</td>\n",
              "      <td>2</td>\n",
              "      <td>2</td>\n",
              "      <td>5</td>\n",
              "      <td>21660.0</td>\n",
              "      <td>72540.0</td>\n",
              "      <td>1400.0</td>\n",
              "      <td>1920</td>\n",
              "      <td>0</td>\n",
              "      <td>0</td>\n",
              "      <td>0.96</td>\n",
              "      <td>1.25</td>\n",
              "      <td>4</td>\n",
              "      <td>4.015970e+09</td>\n",
              "      <td>0</td>\n",
              "      <td>465.0</td>\n",
              "      <td>1020479</td>\n",
              "      <td>211179</td>\n",
              "      <td>9d</td>\n",
              "      <td>NaN</td>\n",
              "      <td>40906.0</td>\n",
              "      <td>40.746240</td>\n",
              "      <td>-73.869251</td>\n",
              "      <td>233.061166</td>\n",
              "      <td>2238.448921</td>\n",
              "      <td>9.26</td>\n",
              "      <td>32.38</td>\n",
              "    </tr>\n",
              "    <tr>\n",
              "      <th>4</th>\n",
              "      <td>MN</td>\n",
              "      <td>116</td>\n",
              "      <td>46</td>\n",
              "      <td>103</td>\n",
              "      <td>27.00</td>\n",
              "      <td>1009.0</td>\n",
              "      <td>2.0</td>\n",
              "      <td>1</td>\n",
              "      <td>10038</td>\n",
              "      <td>35 MADISON STREET</td>\n",
              "      <td>C7</td>\n",
              "      <td>4.0</td>\n",
              "      <td>NaN</td>\n",
              "      <td>METRO CITY ACQUISITION LLC</td>\n",
              "      <td>2000</td>\n",
              "      <td>6924</td>\n",
              "      <td>3924</td>\n",
              "      <td>1</td>\n",
              "      <td>4.0</td>\n",
              "      <td>10</td>\n",
              "      <td>12</td>\n",
              "      <td>5</td>\n",
              "      <td>247500.0</td>\n",
              "      <td>614700.0</td>\n",
              "      <td>0.0</td>\n",
              "      <td>1910</td>\n",
              "      <td>0</td>\n",
              "      <td>0</td>\n",
              "      <td>3.46</td>\n",
              "      <td>3.44</td>\n",
              "      <td>1</td>\n",
              "      <td>1.001160e+09</td>\n",
              "      <td>0</td>\n",
              "      <td>27.0</td>\n",
              "      <td>984543</td>\n",
              "      <td>198701</td>\n",
              "      <td>12d</td>\n",
              "      <td>NaN</td>\n",
              "      <td>10104.0</td>\n",
              "      <td>40.712065</td>\n",
              "      <td>-73.998943</td>\n",
              "      <td>213.144889</td>\n",
              "      <td>2015.118381</td>\n",
              "      <td>123.75</td>\n",
              "      <td>88.78</td>\n",
              "    </tr>\n",
              "  </tbody>\n",
              "</table>\n",
              "</div>"
            ],
            "text/plain": [
              "  Borough  Block  Lot   CD  ...  Shape_Leng   Shape_Area  Land$/sqft  Bldg$/sqft\n",
              "0      BK   5527   50  311  ...  240.542515  1886.597524        9.93       40.25\n",
              "1      SI   5094   26  503  ...  326.646564  6214.094994        2.41       20.43\n",
              "2      BX   4649   74  212  ...  281.671351  4404.130503        2.43       19.85\n",
              "3      QN   1597   27  404  ...  233.061166  2238.448921        9.26       32.38\n",
              "4      MN    116   46  103  ...  213.144889  2015.118381      123.75       88.78\n",
              "\n",
              "[5 rows x 45 columns]"
            ]
          },
          "metadata": {
            "tags": []
          },
          "execution_count": 9
        }
      ]
    },
    {
      "cell_type": "code",
      "metadata": {
        "id": "HIewLKHe1OC0",
        "colab_type": "code",
        "outputId": "10befa42-3d2e-4ce6-b8f8-b12c9cb2c840",
        "colab": {
          "base_uri": "https://localhost:8080/",
          "height": 204
        }
      },
      "source": [
        "#Land Value by Borough/Coordinates/etc.\n",
        "housing.tail(20)\n",
        "housing1=housing[[\"Borough\",\"Land$/sqft\", \"Bldg$/sqft\"]]\n",
        "housing1.head()"
      ],
      "execution_count": 0,
      "outputs": [
        {
          "output_type": "execute_result",
          "data": {
            "text/html": [
              "<div>\n",
              "<style scoped>\n",
              "    .dataframe tbody tr th:only-of-type {\n",
              "        vertical-align: middle;\n",
              "    }\n",
              "\n",
              "    .dataframe tbody tr th {\n",
              "        vertical-align: top;\n",
              "    }\n",
              "\n",
              "    .dataframe thead th {\n",
              "        text-align: right;\n",
              "    }\n",
              "</style>\n",
              "<table border=\"1\" class=\"dataframe\">\n",
              "  <thead>\n",
              "    <tr style=\"text-align: right;\">\n",
              "      <th></th>\n",
              "      <th>Borough</th>\n",
              "      <th>Land$/sqft</th>\n",
              "      <th>Bldg$/sqft</th>\n",
              "    </tr>\n",
              "  </thead>\n",
              "  <tbody>\n",
              "    <tr>\n",
              "      <th>0</th>\n",
              "      <td>BK</td>\n",
              "      <td>9.93</td>\n",
              "      <td>40.25</td>\n",
              "    </tr>\n",
              "    <tr>\n",
              "      <th>1</th>\n",
              "      <td>SI</td>\n",
              "      <td>2.41</td>\n",
              "      <td>20.43</td>\n",
              "    </tr>\n",
              "    <tr>\n",
              "      <th>2</th>\n",
              "      <td>BX</td>\n",
              "      <td>2.43</td>\n",
              "      <td>19.85</td>\n",
              "    </tr>\n",
              "    <tr>\n",
              "      <th>3</th>\n",
              "      <td>QN</td>\n",
              "      <td>9.26</td>\n",
              "      <td>32.38</td>\n",
              "    </tr>\n",
              "    <tr>\n",
              "      <th>4</th>\n",
              "      <td>MN</td>\n",
              "      <td>123.75</td>\n",
              "      <td>88.78</td>\n",
              "    </tr>\n",
              "  </tbody>\n",
              "</table>\n",
              "</div>"
            ],
            "text/plain": [
              "  Borough  Land$/sqft  Bldg$/sqft\n",
              "0      BK        9.93       40.25\n",
              "1      SI        2.41       20.43\n",
              "2      BX        2.43       19.85\n",
              "3      QN        9.26       32.38\n",
              "4      MN      123.75       88.78"
            ]
          },
          "metadata": {
            "tags": []
          },
          "execution_count": 68
        }
      ]
    },
    {
      "cell_type": "code",
      "metadata": {
        "id": "D92ljeZRFpi4",
        "colab_type": "code",
        "colab": {}
      },
      "source": [
        "house=housing1.groupby(['Borough']).mean()"
      ],
      "execution_count": 0,
      "outputs": []
    },
    {
      "cell_type": "code",
      "metadata": {
        "id": "gS9mkuxjFyEt",
        "colab_type": "code",
        "outputId": "a5550b1c-69c3-4498-ae0e-99dd6ab97f38",
        "colab": {
          "base_uri": "https://localhost:8080/",
          "height": 235
        }
      },
      "source": [
        "house.head(30)"
      ],
      "execution_count": 0,
      "outputs": [
        {
          "output_type": "execute_result",
          "data": {
            "text/html": [
              "<div>\n",
              "<style scoped>\n",
              "    .dataframe tbody tr th:only-of-type {\n",
              "        vertical-align: middle;\n",
              "    }\n",
              "\n",
              "    .dataframe tbody tr th {\n",
              "        vertical-align: top;\n",
              "    }\n",
              "\n",
              "    .dataframe thead th {\n",
              "        text-align: right;\n",
              "    }\n",
              "</style>\n",
              "<table border=\"1\" class=\"dataframe\">\n",
              "  <thead>\n",
              "    <tr style=\"text-align: right;\">\n",
              "      <th></th>\n",
              "      <th>Land$/sqft</th>\n",
              "      <th>Bldg$/sqft</th>\n",
              "    </tr>\n",
              "    <tr>\n",
              "      <th>Borough</th>\n",
              "      <th></th>\n",
              "      <th></th>\n",
              "    </tr>\n",
              "  </thead>\n",
              "  <tbody>\n",
              "    <tr>\n",
              "      <th>BK</th>\n",
              "      <td>12.342613</td>\n",
              "      <td>46.334639</td>\n",
              "    </tr>\n",
              "    <tr>\n",
              "      <th>BX</th>\n",
              "      <td>5.870699</td>\n",
              "      <td>23.135439</td>\n",
              "    </tr>\n",
              "    <tr>\n",
              "      <th>MN</th>\n",
              "      <td>127.704254</td>\n",
              "      <td>154.876239</td>\n",
              "    </tr>\n",
              "    <tr>\n",
              "      <th>QN</th>\n",
              "      <td>6.519360</td>\n",
              "      <td>32.411309</td>\n",
              "    </tr>\n",
              "    <tr>\n",
              "      <th>SI</th>\n",
              "      <td>3.213997</td>\n",
              "      <td>23.932953</td>\n",
              "    </tr>\n",
              "  </tbody>\n",
              "</table>\n",
              "</div>"
            ],
            "text/plain": [
              "         Land$/sqft  Bldg$/sqft\n",
              "Borough                        \n",
              "BK        12.342613   46.334639\n",
              "BX         5.870699   23.135439\n",
              "MN       127.704254  154.876239\n",
              "QN         6.519360   32.411309\n",
              "SI         3.213997   23.932953"
            ]
          },
          "metadata": {
            "tags": []
          },
          "execution_count": 70
        }
      ]
    },
    {
      "cell_type": "code",
      "metadata": {
        "id": "tUUapKpGKzm7",
        "colab_type": "code",
        "outputId": "7fb4c682-c58a-47b6-da50-0eb14a823dc2",
        "colab": {
          "base_uri": "https://localhost:8080/",
          "height": 235
        }
      },
      "source": [
        "sortedhouse=house.sort_values(['Land$/sqft'])\n",
        "sortedhouse.head()"
      ],
      "execution_count": 0,
      "outputs": [
        {
          "output_type": "execute_result",
          "data": {
            "text/html": [
              "<div>\n",
              "<style scoped>\n",
              "    .dataframe tbody tr th:only-of-type {\n",
              "        vertical-align: middle;\n",
              "    }\n",
              "\n",
              "    .dataframe tbody tr th {\n",
              "        vertical-align: top;\n",
              "    }\n",
              "\n",
              "    .dataframe thead th {\n",
              "        text-align: right;\n",
              "    }\n",
              "</style>\n",
              "<table border=\"1\" class=\"dataframe\">\n",
              "  <thead>\n",
              "    <tr style=\"text-align: right;\">\n",
              "      <th></th>\n",
              "      <th>Land$/sqft</th>\n",
              "      <th>Bldg$/sqft</th>\n",
              "    </tr>\n",
              "    <tr>\n",
              "      <th>Borough</th>\n",
              "      <th></th>\n",
              "      <th></th>\n",
              "    </tr>\n",
              "  </thead>\n",
              "  <tbody>\n",
              "    <tr>\n",
              "      <th>SI</th>\n",
              "      <td>3.213997</td>\n",
              "      <td>23.932953</td>\n",
              "    </tr>\n",
              "    <tr>\n",
              "      <th>BX</th>\n",
              "      <td>5.870699</td>\n",
              "      <td>23.135439</td>\n",
              "    </tr>\n",
              "    <tr>\n",
              "      <th>QN</th>\n",
              "      <td>6.519360</td>\n",
              "      <td>32.411309</td>\n",
              "    </tr>\n",
              "    <tr>\n",
              "      <th>BK</th>\n",
              "      <td>12.342613</td>\n",
              "      <td>46.334639</td>\n",
              "    </tr>\n",
              "    <tr>\n",
              "      <th>MN</th>\n",
              "      <td>127.704254</td>\n",
              "      <td>154.876239</td>\n",
              "    </tr>\n",
              "  </tbody>\n",
              "</table>\n",
              "</div>"
            ],
            "text/plain": [
              "         Land$/sqft  Bldg$/sqft\n",
              "Borough                        \n",
              "SI         3.213997   23.932953\n",
              "BX         5.870699   23.135439\n",
              "QN         6.519360   32.411309\n",
              "BK        12.342613   46.334639\n",
              "MN       127.704254  154.876239"
            ]
          },
          "metadata": {
            "tags": []
          },
          "execution_count": 72
        }
      ]
    },
    {
      "cell_type": "code",
      "metadata": {
        "id": "GQi0-rAMLcQ9",
        "colab_type": "code",
        "outputId": "a0e29887-2c57-4df3-ad49-b6b710651d58",
        "colab": {
          "base_uri": "https://localhost:8080/",
          "height": 297
        }
      },
      "source": [
        "sortedhouse.plot()"
      ],
      "execution_count": 0,
      "outputs": [
        {
          "output_type": "execute_result",
          "data": {
            "text/plain": [
              "<matplotlib.axes._subplots.AxesSubplot at 0x7f05358bf4e0>"
            ]
          },
          "metadata": {
            "tags": []
          },
          "execution_count": 75
        },
        {
          "output_type": "display_data",
          "data": {
            "image/png": "[encoded data removed]",
            "text/plain": [
              "<Figure size 432x288 with 1 Axes>"
            ]
          },
          "metadata": {
            "tags": [],
            "needs_background": "light"
          }
        }
      ]
    },
    {
      "cell_type": "code",
      "metadata": {
        "id": "pE0PUcTKni0E",
        "colab_type": "code",
        "colab": {}
      },
      "source": [
        "#education\n",
        "boro_edu = pd.read_csv('drive/My Drive/sue/County Education Levels.csv')"
      ],
      "execution_count": 0,
      "outputs": []
    },
    {
      "cell_type": "code",
      "metadata": {
        "id": "FZBTdJ7UoOoO",
        "colab_type": "code",
        "outputId": "54dbbdef-f8af-4e26-a415-c1cd980cadd5",
        "colab": {
          "base_uri": "https://localhost:8080/",
          "height": 459
        }
      },
      "source": [
        "#NOTE:\n",
        "#Kings County == Brooklyn\n",
        "#New York County == Manhattan\n",
        "#Richmond County == Staten Island\n",
        "boro_edu.head(6)\n"
      ],
      "execution_count": 0,
      "outputs": [
        {
          "output_type": "execute_result",
          "data": {
            "text/html": [
              "<div>\n",
              "<style scoped>\n",
              "    .dataframe tbody tr th:only-of-type {\n",
              "        vertical-align: middle;\n",
              "    }\n",
              "\n",
              "    .dataframe tbody tr th {\n",
              "        vertical-align: top;\n",
              "    }\n",
              "\n",
              "    .dataframe thead th {\n",
              "        text-align: right;\n",
              "    }\n",
              "</style>\n",
              "<table border=\"1\" class=\"dataframe\">\n",
              "  <thead>\n",
              "    <tr style=\"text-align: right;\">\n",
              "      <th></th>\n",
              "      <th>GEO_ID</th>\n",
              "      <th>NAME</th>\n",
              "      <th>DP02_0058E</th>\n",
              "      <th>DP02_0059E</th>\n",
              "      <th>DP02_0059PE</th>\n",
              "      <th>DP02_0060E</th>\n",
              "      <th>DP02_0060PE</th>\n",
              "      <th>DP02_0061E</th>\n",
              "      <th>DP02_0061PE</th>\n",
              "      <th>DP02_0062E</th>\n",
              "      <th>DP02_0062PE</th>\n",
              "      <th>DP02_0063E</th>\n",
              "      <th>DP02_0063PE</th>\n",
              "      <th>DP02_0064E</th>\n",
              "      <th>DP02_0064PE</th>\n",
              "      <th>DP02_0065E</th>\n",
              "      <th>DP02_0065PE</th>\n",
              "      <th>DP02_0066E</th>\n",
              "      <th>DP02_0066PE</th>\n",
              "      <th>DP02_0067E</th>\n",
              "      <th>DP02_0067PE</th>\n",
              "    </tr>\n",
              "  </thead>\n",
              "  <tbody>\n",
              "    <tr>\n",
              "      <th>0</th>\n",
              "      <td>id</td>\n",
              "      <td>Geographic Area Name</td>\n",
              "      <td>Estimate!!EDUCATIONAL ATTAINMENT!!Population 2...</td>\n",
              "      <td>Estimate!!EDUCATIONAL ATTAINMENT!!Population 2...</td>\n",
              "      <td>Percent Estimate!!EDUCATIONAL ATTAINMENT!!Popu...</td>\n",
              "      <td>Estimate!!EDUCATIONAL ATTAINMENT!!Population 2...</td>\n",
              "      <td>Percent Estimate!!EDUCATIONAL ATTAINMENT!!Popu...</td>\n",
              "      <td>Estimate!!EDUCATIONAL ATTAINMENT!!Population 2...</td>\n",
              "      <td>Percent Estimate!!EDUCATIONAL ATTAINMENT!!Popu...</td>\n",
              "      <td>Estimate!!EDUCATIONAL ATTAINMENT!!Population 2...</td>\n",
              "      <td>Percent Estimate!!EDUCATIONAL ATTAINMENT!!Popu...</td>\n",
              "      <td>Estimate!!EDUCATIONAL ATTAINMENT!!Population 2...</td>\n",
              "      <td>Percent Estimate!!EDUCATIONAL ATTAINMENT!!Popu...</td>\n",
              "      <td>Estimate!!EDUCATIONAL ATTAINMENT!!Population 2...</td>\n",
              "      <td>Percent Estimate!!EDUCATIONAL ATTAINMENT!!Popu...</td>\n",
              "      <td>Estimate!!EDUCATIONAL ATTAINMENT!!Population 2...</td>\n",
              "      <td>Percent Estimate!!EDUCATIONAL ATTAINMENT!!Popu...</td>\n",
              "      <td>Estimate!!EDUCATIONAL ATTAINMENT!!Population 2...</td>\n",
              "      <td>Percent Estimate!!EDUCATIONAL ATTAINMENT!!Popu...</td>\n",
              "      <td>Estimate!!EDUCATIONAL ATTAINMENT!!Population 2...</td>\n",
              "      <td>Percent Estimate!!EDUCATIONAL ATTAINMENT!!Popu...</td>\n",
              "    </tr>\n",
              "    <tr>\n",
              "      <th>1</th>\n",
              "      <td>0500000US36005</td>\n",
              "      <td>Bronx County, New York</td>\n",
              "      <td>924137</td>\n",
              "      <td>131141</td>\n",
              "      <td>14.2</td>\n",
              "      <td>127815</td>\n",
              "      <td>13.8</td>\n",
              "      <td>255427</td>\n",
              "      <td>27.6</td>\n",
              "      <td>159430</td>\n",
              "      <td>17.3</td>\n",
              "      <td>67190</td>\n",
              "      <td>7.3</td>\n",
              "      <td>118587</td>\n",
              "      <td>12.8</td>\n",
              "      <td>64547</td>\n",
              "      <td>7</td>\n",
              "      <td>665181</td>\n",
              "      <td>72</td>\n",
              "      <td>183134</td>\n",
              "      <td>19.8</td>\n",
              "    </tr>\n",
              "    <tr>\n",
              "      <th>2</th>\n",
              "      <td>0500000US36047</td>\n",
              "      <td>Kings County, New York</td>\n",
              "      <td>1777281</td>\n",
              "      <td>163082</td>\n",
              "      <td>9.2</td>\n",
              "      <td>163387</td>\n",
              "      <td>9.2</td>\n",
              "      <td>455299</td>\n",
              "      <td>25.6</td>\n",
              "      <td>238066</td>\n",
              "      <td>13.4</td>\n",
              "      <td>108986</td>\n",
              "      <td>6.1</td>\n",
              "      <td>390322</td>\n",
              "      <td>22</td>\n",
              "      <td>258139</td>\n",
              "      <td>14.5</td>\n",
              "      <td>1450812</td>\n",
              "      <td>81.6</td>\n",
              "      <td>648461</td>\n",
              "      <td>36.5</td>\n",
              "    </tr>\n",
              "    <tr>\n",
              "      <th>3</th>\n",
              "      <td>0500000US36061</td>\n",
              "      <td>New York County, New York</td>\n",
              "      <td>1247071</td>\n",
              "      <td>87317</td>\n",
              "      <td>7</td>\n",
              "      <td>74920</td>\n",
              "      <td>6</td>\n",
              "      <td>155048</td>\n",
              "      <td>12.4</td>\n",
              "      <td>121886</td>\n",
              "      <td>9.8</td>\n",
              "      <td>49575</td>\n",
              "      <td>4</td>\n",
              "      <td>391234</td>\n",
              "      <td>31.4</td>\n",
              "      <td>367091</td>\n",
              "      <td>29.4</td>\n",
              "      <td>1084834</td>\n",
              "      <td>87</td>\n",
              "      <td>758325</td>\n",
              "      <td>60.8</td>\n",
              "    </tr>\n",
              "    <tr>\n",
              "      <th>4</th>\n",
              "      <td>0500000US36081</td>\n",
              "      <td>Queens County, New York</td>\n",
              "      <td>1646256</td>\n",
              "      <td>167643</td>\n",
              "      <td>10.2</td>\n",
              "      <td>136238</td>\n",
              "      <td>8.3</td>\n",
              "      <td>454105</td>\n",
              "      <td>27.6</td>\n",
              "      <td>240393</td>\n",
              "      <td>14.6</td>\n",
              "      <td>128878</td>\n",
              "      <td>7.8</td>\n",
              "      <td>327893</td>\n",
              "      <td>19.9</td>\n",
              "      <td>191106</td>\n",
              "      <td>11.6</td>\n",
              "      <td>1342375</td>\n",
              "      <td>81.5</td>\n",
              "      <td>518999</td>\n",
              "      <td>31.5</td>\n",
              "    </tr>\n",
              "    <tr>\n",
              "      <th>5</th>\n",
              "      <td>0500000US36085</td>\n",
              "      <td>Richmond County, New York</td>\n",
              "      <td>328753</td>\n",
              "      <td>16162</td>\n",
              "      <td>4.9</td>\n",
              "      <td>21513</td>\n",
              "      <td>6.5</td>\n",
              "      <td>101738</td>\n",
              "      <td>30.9</td>\n",
              "      <td>56186</td>\n",
              "      <td>17.1</td>\n",
              "      <td>24828</td>\n",
              "      <td>7.6</td>\n",
              "      <td>64778</td>\n",
              "      <td>19.7</td>\n",
              "      <td>43548</td>\n",
              "      <td>13.2</td>\n",
              "      <td>291078</td>\n",
              "      <td>88.5</td>\n",
              "      <td>108326</td>\n",
              "      <td>33</td>\n",
              "    </tr>\n",
              "  </tbody>\n",
              "</table>\n",
              "</div>"
            ],
            "text/plain": [
              "           GEO_ID  ...                                        DP02_0067PE\n",
              "0              id  ...  Percent Estimate!!EDUCATIONAL ATTAINMENT!!Popu...\n",
              "1  0500000US36005  ...                                               19.8\n",
              "2  0500000US36047  ...                                               36.5\n",
              "3  0500000US36061  ...                                               60.8\n",
              "4  0500000US36081  ...                                               31.5\n",
              "5  0500000US36085  ...                                                 33\n",
              "\n",
              "[6 rows x 21 columns]"
            ]
          },
          "metadata": {
            "tags": []
          },
          "execution_count": 9
        }
      ]
    },
    {
      "cell_type": "code",
      "metadata": {
        "id": "T3_25eG5NXM_",
        "colab_type": "code",
        "colab": {}
      },
      "source": [
        "boro_edu['NAME'][\"Kings County, New York\"]=\"BK\"\n",
        "boro_edu['NAME'][\"Bronx County, New York\"]=\"BX\"\n",
        "boro_edu['NAME'][\"New York County, New York\"]=\"MN\"\n",
        "boro_edu['NAME'][\"New York County, New York\"]=\"MN\"\n",
        "boro_edu['NAME'][\"New York County, New York\"]=\"MN\""
      ],
      "execution_count": 0,
      "outputs": []
    },
    {
      "cell_type": "code",
      "metadata": {
        "id": "sJcx-02tNjbn",
        "colab_type": "code",
        "colab": {}
      },
      "source": [
        "#education\n",
        "edu = pd.read_csv('drive/My Drive/sue/USedu.csv')\n"
      ],
      "execution_count": 0,
      "outputs": []
    },
    {
      "cell_type": "code",
      "metadata": {
        "id": "0RZxqNk3jpQu",
        "colab_type": "code",
        "outputId": "9a7e4aba-6b0d-4d02-d5d1-0c95d7024cdd",
        "colab": {
          "base_uri": "https://localhost:8080/",
          "height": 445
        }
      },
      "source": [
        "edu.head()"
      ],
      "execution_count": 0,
      "outputs": [
        {
          "output_type": "execute_result",
          "data": {
            "text/html": [
              "<div>\n",
              "<style scoped>\n",
              "    .dataframe tbody tr th:only-of-type {\n",
              "        vertical-align: middle;\n",
              "    }\n",
              "\n",
              "    .dataframe tbody tr th {\n",
              "        vertical-align: top;\n",
              "    }\n",
              "\n",
              "    .dataframe thead th {\n",
              "        text-align: right;\n",
              "    }\n",
              "</style>\n",
              "<table border=\"1\" class=\"dataframe\">\n",
              "  <thead>\n",
              "    <tr style=\"text-align: right;\">\n",
              "      <th></th>\n",
              "      <th>FIPS Code</th>\n",
              "      <th>State</th>\n",
              "      <th>Area name</th>\n",
              "      <th>2003 Rural-urban Continuum Code</th>\n",
              "      <th>2003 Urban Influence Code</th>\n",
              "      <th>2013 Rural-urban Continuum Code</th>\n",
              "      <th>2013 Urban Influence Code</th>\n",
              "      <th>Less than a high school diploma, 1970</th>\n",
              "      <th>High school diploma only, 1970</th>\n",
              "      <th>Some college (1-3 years), 1970</th>\n",
              "      <th>Four years of college or higher, 1970</th>\n",
              "      <th>Percent of adults with less than a high school diploma, 1970</th>\n",
              "      <th>Percent of adults with a high school diploma only, 1970</th>\n",
              "      <th>Percent of adults completing some college (1-3 years), 1970</th>\n",
              "      <th>Percent of adults completing four years of college or higher, 1970</th>\n",
              "      <th>Less than a high school diploma, 1980</th>\n",
              "      <th>High school diploma only, 1980</th>\n",
              "      <th>Some college (1-3 years), 1980</th>\n",
              "      <th>Four years of college or higher, 1980</th>\n",
              "      <th>Percent of adults with less than a high school diploma, 1980</th>\n",
              "      <th>Percent of adults with a high school diploma only, 1980</th>\n",
              "      <th>Percent of adults completing some college (1-3 years), 1980</th>\n",
              "      <th>Percent of adults completing four years of college or higher, 1980</th>\n",
              "      <th>Less than a high school diploma, 1990</th>\n",
              "      <th>High school diploma only, 1990</th>\n",
              "      <th>Some college or associate's degree, 1990</th>\n",
              "      <th>Bachelor's degree or higher, 1990</th>\n",
              "      <th>Percent of adults with less than a high school diploma, 1990</th>\n",
              "      <th>Percent of adults with a high school diploma only, 1990</th>\n",
              "      <th>Percent of adults completing some college or associate's degree, 1990</th>\n",
              "      <th>Percent of adults with a bachelor's degree or higher, 1990</th>\n",
              "      <th>Less than a high school diploma, 2000</th>\n",
              "      <th>High school diploma only, 2000</th>\n",
              "      <th>Some college or associate's degree, 2000</th>\n",
              "      <th>Bachelor's degree or higher, 2000</th>\n",
              "      <th>Percent of adults with less than a high school diploma, 2000</th>\n",
              "      <th>Percent of adults with a high school diploma only, 2000</th>\n",
              "      <th>Percent of adults completing some college or associate's degree, 2000</th>\n",
              "      <th>Percent of adults with a bachelor's degree or higher, 2000</th>\n",
              "      <th>Less than a high school diploma, 2014-18</th>\n",
              "      <th>High school diploma only, 2014-18</th>\n",
              "      <th>Some college or associate's degree, 2014-18</th>\n",
              "      <th>Bachelor's degree or higher, 2014-18</th>\n",
              "      <th>Percent of adults with less than a high school diploma, 2014-18</th>\n",
              "      <th>Percent of adults with a high school diploma only, 2014-18</th>\n",
              "      <th>Percent of adults completing some college or associate's degree, 2014-18</th>\n",
              "      <th>Percent of adults with a bachelor's degree or higher, 2014-18</th>\n",
              "    </tr>\n",
              "  </thead>\n",
              "  <tbody>\n",
              "    <tr>\n",
              "      <th>0</th>\n",
              "      <td>0</td>\n",
              "      <td>US</td>\n",
              "      <td>United States</td>\n",
              "      <td>NaN</td>\n",
              "      <td>NaN</td>\n",
              "      <td>NaN</td>\n",
              "      <td>NaN</td>\n",
              "      <td>52,373,312</td>\n",
              "      <td>34,158,051</td>\n",
              "      <td>11,650,730</td>\n",
              "      <td>11,717,266</td>\n",
              "      <td>47.7</td>\n",
              "      <td>31.1</td>\n",
              "      <td>10.6</td>\n",
              "      <td>10.7</td>\n",
              "      <td>44,535,197</td>\n",
              "      <td>45,947,035</td>\n",
              "      <td>20,794,975</td>\n",
              "      <td>21,558,480</td>\n",
              "      <td>33.5</td>\n",
              "      <td>34.6</td>\n",
              "      <td>15.7</td>\n",
              "      <td>16.2</td>\n",
              "      <td>39,343,718</td>\n",
              "      <td>47,642,763</td>\n",
              "      <td>39,571,702</td>\n",
              "      <td>32,310,253</td>\n",
              "      <td>24.8</td>\n",
              "      <td>30.0</td>\n",
              "      <td>24.9</td>\n",
              "      <td>20.3</td>\n",
              "      <td>35,715,625</td>\n",
              "      <td>52,168,981</td>\n",
              "      <td>49,864,428</td>\n",
              "      <td>44,462,605</td>\n",
              "      <td>19.6</td>\n",
              "      <td>28.6</td>\n",
              "      <td>27.4</td>\n",
              "      <td>24.4</td>\n",
              "      <td>26,948,057</td>\n",
              "      <td>59,265,308</td>\n",
              "      <td>63,365,655</td>\n",
              "      <td>68,867,051</td>\n",
              "      <td>12.3</td>\n",
              "      <td>27.1</td>\n",
              "      <td>29.0</td>\n",
              "      <td>31.5</td>\n",
              "    </tr>\n",
              "    <tr>\n",
              "      <th>1</th>\n",
              "      <td>1000</td>\n",
              "      <td>AL</td>\n",
              "      <td>Alabama</td>\n",
              "      <td>NaN</td>\n",
              "      <td>NaN</td>\n",
              "      <td>NaN</td>\n",
              "      <td>NaN</td>\n",
              "      <td>1,062,306</td>\n",
              "      <td>468,269</td>\n",
              "      <td>136,287</td>\n",
              "      <td>141,936</td>\n",
              "      <td>58.7</td>\n",
              "      <td>25.9</td>\n",
              "      <td>7.5</td>\n",
              "      <td>7.8</td>\n",
              "      <td>964,840</td>\n",
              "      <td>704,207</td>\n",
              "      <td>278,205</td>\n",
              "      <td>270,063</td>\n",
              "      <td>43.5</td>\n",
              "      <td>31.8</td>\n",
              "      <td>12.5</td>\n",
              "      <td>12.2</td>\n",
              "      <td>843,638</td>\n",
              "      <td>749,591</td>\n",
              "      <td>553,512</td>\n",
              "      <td>399,228</td>\n",
              "      <td>33.1</td>\n",
              "      <td>29.4</td>\n",
              "      <td>21.7</td>\n",
              "      <td>15.7</td>\n",
              "      <td>714,081</td>\n",
              "      <td>877,216</td>\n",
              "      <td>746,495</td>\n",
              "      <td>549,608</td>\n",
              "      <td>24.7</td>\n",
              "      <td>30.4</td>\n",
              "      <td>25.9</td>\n",
              "      <td>19.0</td>\n",
              "      <td>470,043</td>\n",
              "      <td>1,020,172</td>\n",
              "      <td>987,148</td>\n",
              "      <td>822,595</td>\n",
              "      <td>14.2</td>\n",
              "      <td>30.9</td>\n",
              "      <td>29.9</td>\n",
              "      <td>24.9</td>\n",
              "    </tr>\n",
              "    <tr>\n",
              "      <th>2</th>\n",
              "      <td>1001</td>\n",
              "      <td>AL</td>\n",
              "      <td>Autauga County</td>\n",
              "      <td>2.0</td>\n",
              "      <td>2.0</td>\n",
              "      <td>2.0</td>\n",
              "      <td>2.0</td>\n",
              "      <td>6,611</td>\n",
              "      <td>3,757</td>\n",
              "      <td>933</td>\n",
              "      <td>767</td>\n",
              "      <td>54.8</td>\n",
              "      <td>31.1</td>\n",
              "      <td>7.7</td>\n",
              "      <td>6.4</td>\n",
              "      <td>7,074</td>\n",
              "      <td>6,145</td>\n",
              "      <td>2,104</td>\n",
              "      <td>2,117</td>\n",
              "      <td>40.6</td>\n",
              "      <td>35.2</td>\n",
              "      <td>12.1</td>\n",
              "      <td>12.1</td>\n",
              "      <td>6,252</td>\n",
              "      <td>6,671</td>\n",
              "      <td>4,912</td>\n",
              "      <td>3,026</td>\n",
              "      <td>30.0</td>\n",
              "      <td>32.0</td>\n",
              "      <td>23.5</td>\n",
              "      <td>14.5</td>\n",
              "      <td>5,872</td>\n",
              "      <td>9,332</td>\n",
              "      <td>7,413</td>\n",
              "      <td>4,972</td>\n",
              "      <td>21.3</td>\n",
              "      <td>33.8</td>\n",
              "      <td>26.9</td>\n",
              "      <td>18.0</td>\n",
              "      <td>4,204</td>\n",
              "      <td>12,119</td>\n",
              "      <td>10,552</td>\n",
              "      <td>10,291</td>\n",
              "      <td>11.3</td>\n",
              "      <td>32.6</td>\n",
              "      <td>28.4</td>\n",
              "      <td>27.7</td>\n",
              "    </tr>\n",
              "    <tr>\n",
              "      <th>3</th>\n",
              "      <td>1003</td>\n",
              "      <td>AL</td>\n",
              "      <td>Baldwin County</td>\n",
              "      <td>4.0</td>\n",
              "      <td>5.0</td>\n",
              "      <td>3.0</td>\n",
              "      <td>2.0</td>\n",
              "      <td>18,726</td>\n",
              "      <td>8,426</td>\n",
              "      <td>2,334</td>\n",
              "      <td>2,038</td>\n",
              "      <td>59.4</td>\n",
              "      <td>26.7</td>\n",
              "      <td>7.4</td>\n",
              "      <td>6.5</td>\n",
              "      <td>18,125</td>\n",
              "      <td>15,380</td>\n",
              "      <td>6,602</td>\n",
              "      <td>5,498</td>\n",
              "      <td>39.7</td>\n",
              "      <td>33.7</td>\n",
              "      <td>14.5</td>\n",
              "      <td>12.1</td>\n",
              "      <td>17,309</td>\n",
              "      <td>20,544</td>\n",
              "      <td>15,900</td>\n",
              "      <td>10,870</td>\n",
              "      <td>26.8</td>\n",
              "      <td>31.8</td>\n",
              "      <td>24.6</td>\n",
              "      <td>16.8</td>\n",
              "      <td>17,258</td>\n",
              "      <td>28,428</td>\n",
              "      <td>28,178</td>\n",
              "      <td>22,146</td>\n",
              "      <td>18.0</td>\n",
              "      <td>29.6</td>\n",
              "      <td>29.3</td>\n",
              "      <td>23.1</td>\n",
              "      <td>14,310</td>\n",
              "      <td>40,579</td>\n",
              "      <td>46,025</td>\n",
              "      <td>46,075</td>\n",
              "      <td>9.7</td>\n",
              "      <td>27.6</td>\n",
              "      <td>31.3</td>\n",
              "      <td>31.3</td>\n",
              "    </tr>\n",
              "    <tr>\n",
              "      <th>4</th>\n",
              "      <td>1005</td>\n",
              "      <td>AL</td>\n",
              "      <td>Barbour County</td>\n",
              "      <td>6.0</td>\n",
              "      <td>6.0</td>\n",
              "      <td>6.0</td>\n",
              "      <td>6.0</td>\n",
              "      <td>8,120</td>\n",
              "      <td>2,242</td>\n",
              "      <td>581</td>\n",
              "      <td>861</td>\n",
              "      <td>68.8</td>\n",
              "      <td>19.0</td>\n",
              "      <td>4.9</td>\n",
              "      <td>7.3</td>\n",
              "      <td>7,759</td>\n",
              "      <td>3,671</td>\n",
              "      <td>1,362</td>\n",
              "      <td>1,300</td>\n",
              "      <td>55.1</td>\n",
              "      <td>26.1</td>\n",
              "      <td>9.7</td>\n",
              "      <td>9.2</td>\n",
              "      <td>6,965</td>\n",
              "      <td>4,258</td>\n",
              "      <td>2,622</td>\n",
              "      <td>1,857</td>\n",
              "      <td>44.4</td>\n",
              "      <td>27.1</td>\n",
              "      <td>16.7</td>\n",
              "      <td>11.8</td>\n",
              "      <td>6,679</td>\n",
              "      <td>6,124</td>\n",
              "      <td>4,025</td>\n",
              "      <td>2,068</td>\n",
              "      <td>35.3</td>\n",
              "      <td>32.4</td>\n",
              "      <td>21.3</td>\n",
              "      <td>10.9</td>\n",
              "      <td>4,901</td>\n",
              "      <td>6,486</td>\n",
              "      <td>4,566</td>\n",
              "      <td>2,220</td>\n",
              "      <td>27.0</td>\n",
              "      <td>35.7</td>\n",
              "      <td>25.1</td>\n",
              "      <td>12.2</td>\n",
              "    </tr>\n",
              "  </tbody>\n",
              "</table>\n",
              "</div>"
            ],
            "text/plain": [
              "   FIPS Code  ... Percent of adults with a bachelor's degree or higher, 2014-18\n",
              "0          0  ...                                               31.5           \n",
              "1       1000  ...                                               24.9           \n",
              "2       1001  ...                                               27.7           \n",
              "3       1003  ...                                               31.3           \n",
              "4       1005  ...                                               12.2           \n",
              "\n",
              "[5 rows x 47 columns]"
            ]
          },
          "metadata": {
            "tags": []
          },
          "execution_count": 10
        }
      ]
    },
    {
      "cell_type": "code",
      "metadata": {
        "id": "M_j2C4cZUbGA",
        "colab_type": "code",
        "outputId": "149d986f-732b-4187-951b-041d655e33c7",
        "colab": {
          "base_uri": "https://localhost:8080/",
          "height": 204
        }
      },
      "source": [
        "edu=edu[[\"State\",\"Percent of adults with a bachelor's degree or higher, 2014-18\"]]\n",
        "edu.head()"
      ],
      "execution_count": 0,
      "outputs": [
        {
          "output_type": "execute_result",
          "data": {
            "text/html": [
              "<div>\n",
              "<style scoped>\n",
              "    .dataframe tbody tr th:only-of-type {\n",
              "        vertical-align: middle;\n",
              "    }\n",
              "\n",
              "    .dataframe tbody tr th {\n",
              "        vertical-align: top;\n",
              "    }\n",
              "\n",
              "    .dataframe thead th {\n",
              "        text-align: right;\n",
              "    }\n",
              "</style>\n",
              "<table border=\"1\" class=\"dataframe\">\n",
              "  <thead>\n",
              "    <tr style=\"text-align: right;\">\n",
              "      <th></th>\n",
              "      <th>State</th>\n",
              "      <th>Percent of adults with a bachelor's degree or higher, 2014-18</th>\n",
              "    </tr>\n",
              "  </thead>\n",
              "  <tbody>\n",
              "    <tr>\n",
              "      <th>0</th>\n",
              "      <td>US</td>\n",
              "      <td>31.5</td>\n",
              "    </tr>\n",
              "    <tr>\n",
              "      <th>1</th>\n",
              "      <td>AL</td>\n",
              "      <td>24.9</td>\n",
              "    </tr>\n",
              "    <tr>\n",
              "      <th>2</th>\n",
              "      <td>AL</td>\n",
              "      <td>27.7</td>\n",
              "    </tr>\n",
              "    <tr>\n",
              "      <th>3</th>\n",
              "      <td>AL</td>\n",
              "      <td>31.3</td>\n",
              "    </tr>\n",
              "    <tr>\n",
              "      <th>4</th>\n",
              "      <td>AL</td>\n",
              "      <td>12.2</td>\n",
              "    </tr>\n",
              "  </tbody>\n",
              "</table>\n",
              "</div>"
            ],
            "text/plain": [
              "  State  Percent of adults with a bachelor's degree or higher, 2014-18\n",
              "0    US                                               31.5            \n",
              "1    AL                                               24.9            \n",
              "2    AL                                               27.7            \n",
              "3    AL                                               31.3            \n",
              "4    AL                                               12.2            "
            ]
          },
          "metadata": {
            "tags": []
          },
          "execution_count": 11
        }
      ]
    },
    {
      "cell_type": "code",
      "metadata": {
        "id": "uvXEJQ3AUent",
        "colab_type": "code",
        "colab": {}
      },
      "source": [
        "edu1=edu.groupby(['State']).mean()\n"
      ],
      "execution_count": 0,
      "outputs": []
    },
    {
      "cell_type": "code",
      "metadata": {
        "id": "rtTmUPZOZhl6",
        "colab_type": "code",
        "outputId": "59982abe-7389-43b8-9eb9-3fbc745a3fc6",
        "colab": {
          "base_uri": "https://localhost:8080/",
          "height": 296
        }
      },
      "source": [
        "edu1.head(10)\n",
        "edu1.plot()"
      ],
      "execution_count": 0,
      "outputs": [
        {
          "output_type": "execute_result",
          "data": {
            "text/plain": [
              "<matplotlib.axes._subplots.AxesSubplot at 0x7f313da76828>"
            ]
          },
          "metadata": {
            "tags": []
          },
          "execution_count": 13
        },
        {
          "output_type": "display_data",
          "data": {
            "image/png": "[encoded data removed]",
            "text/plain": [
              "<Figure size 432x288 with 1 Axes>"
            ]
          },
          "metadata": {
            "tags": [],
            "needs_background": "light"
          }
        }
      ]
    },
    {
      "cell_type": "code",
      "metadata": {
        "id": "6zYSVw61c1kN",
        "colab_type": "code",
        "colab": {}
      },
      "source": [
        "sortededu=edu1.sort_values([\"Percent of adults with a bachelor's degree or higher, 2014-18\"])\n"
      ],
      "execution_count": 0,
      "outputs": []
    },
    {
      "cell_type": "code",
      "metadata": {
        "id": "ez_MxG1ubqgO",
        "colab_type": "code",
        "outputId": "5ab9ffd9-fc82-4944-c228-e6c65eb022dc",
        "colab": {
          "base_uri": "https://localhost:8080/",
          "height": 235
        }
      },
      "source": [
        "sortededu.head()"
      ],
      "execution_count": 0,
      "outputs": [
        {
          "output_type": "execute_result",
          "data": {
            "text/html": [
              "<div>\n",
              "<style scoped>\n",
              "    .dataframe tbody tr th:only-of-type {\n",
              "        vertical-align: middle;\n",
              "    }\n",
              "\n",
              "    .dataframe tbody tr th {\n",
              "        vertical-align: top;\n",
              "    }\n",
              "\n",
              "    .dataframe thead th {\n",
              "        text-align: right;\n",
              "    }\n",
              "</style>\n",
              "<table border=\"1\" class=\"dataframe\">\n",
              "  <thead>\n",
              "    <tr style=\"text-align: right;\">\n",
              "      <th></th>\n",
              "      <th>Percent of adults with a bachelor's degree or higher, 2014-18</th>\n",
              "    </tr>\n",
              "    <tr>\n",
              "      <th>State</th>\n",
              "      <th></th>\n",
              "    </tr>\n",
              "  </thead>\n",
              "  <tbody>\n",
              "    <tr>\n",
              "      <th>KY</th>\n",
              "      <td>16.162810</td>\n",
              "    </tr>\n",
              "    <tr>\n",
              "      <th>AR</th>\n",
              "      <td>16.269737</td>\n",
              "    </tr>\n",
              "    <tr>\n",
              "      <th>WV</th>\n",
              "      <td>16.460714</td>\n",
              "    </tr>\n",
              "    <tr>\n",
              "      <th>LA</th>\n",
              "      <td>17.049231</td>\n",
              "    </tr>\n",
              "    <tr>\n",
              "      <th>TN</th>\n",
              "      <td>17.170833</td>\n",
              "    </tr>\n",
              "  </tbody>\n",
              "</table>\n",
              "</div>"
            ],
            "text/plain": [
              "       Percent of adults with a bachelor's degree or higher, 2014-18\n",
              "State                                                               \n",
              "KY                                             16.162810            \n",
              "AR                                             16.269737            \n",
              "WV                                             16.460714            \n",
              "LA                                             17.049231            \n",
              "TN                                             17.170833            "
            ]
          },
          "metadata": {
            "tags": []
          },
          "execution_count": 125
        }
      ]
    },
    {
      "cell_type": "code",
      "metadata": {
        "id": "4EHzDP6ic3WA",
        "colab_type": "code",
        "outputId": "e6cb7a2c-9d26-4661-fca0-4f543a8c595c",
        "colab": {
          "base_uri": "https://localhost:8080/",
          "height": 296
        }
      },
      "source": [
        "sortededu.plot()"
      ],
      "execution_count": 0,
      "outputs": [
        {
          "output_type": "execute_result",
          "data": {
            "text/plain": [
              "<matplotlib.axes._subplots.AxesSubplot at 0x7f313c7dc2e8>"
            ]
          },
          "metadata": {
            "tags": []
          },
          "execution_count": 126
        },
        {
          "output_type": "display_data",
          "data": {
            "image/png": "[encoded data removed]",
            "text/plain": [
              "<Figure size 432x288 with 1 Axes>"
            ]
          },
          "metadata": {
            "tags": [],
            "needs_background": "light"
          }
        }
      ]
    },
    {
      "cell_type": "code",
      "metadata": {
        "id": "6MdQQ1zZkTt-",
        "colab_type": "code",
        "colab": {}
      },
      "source": [
        "gini = pd.read_csv('drive/My Drive/sue/gini.csv')\n"
      ],
      "execution_count": 0,
      "outputs": []
    },
    {
      "cell_type": "code",
      "metadata": {
        "id": "Rgp7beYnN4-z",
        "colab_type": "code",
        "outputId": "5d0f5377-8771-4b14-ce28-37ebb4b78bd9",
        "colab": {
          "base_uri": "https://localhost:8080/",
          "height": 204
        }
      },
      "source": [
        "gini.sort_values([\"gini index\"])\n",
        "gini.head()"
      ],
      "execution_count": 0,
      "outputs": [
        {
          "output_type": "execute_result",
          "data": {
            "text/html": [
              "<div>\n",
              "<style scoped>\n",
              "    .dataframe tbody tr th:only-of-type {\n",
              "        vertical-align: middle;\n",
              "    }\n",
              "\n",
              "    .dataframe tbody tr th {\n",
              "        vertical-align: top;\n",
              "    }\n",
              "\n",
              "    .dataframe thead th {\n",
              "        text-align: right;\n",
              "    }\n",
              "</style>\n",
              "<table border=\"1\" class=\"dataframe\">\n",
              "  <thead>\n",
              "    <tr style=\"text-align: right;\">\n",
              "      <th></th>\n",
              "      <th>num</th>\n",
              "      <th>fullname</th>\n",
              "      <th>gini index</th>\n",
              "      <th>State</th>\n",
              "    </tr>\n",
              "  </thead>\n",
              "  <tbody>\n",
              "    <tr>\n",
              "      <th>0</th>\n",
              "      <td>1</td>\n",
              "      <td>Utah</td>\n",
              "      <td>0.4063</td>\n",
              "      <td>UT</td>\n",
              "    </tr>\n",
              "    <tr>\n",
              "      <th>1</th>\n",
              "      <td>2</td>\n",
              "      <td>Alaska</td>\n",
              "      <td>0.4081</td>\n",
              "      <td>AK</td>\n",
              "    </tr>\n",
              "    <tr>\n",
              "      <th>2</th>\n",
              "      <td>3</td>\n",
              "      <td>New Hampshire</td>\n",
              "      <td>0.4304</td>\n",
              "      <td>NH</td>\n",
              "    </tr>\n",
              "    <tr>\n",
              "      <th>3</th>\n",
              "      <td>4</td>\n",
              "      <td>Wyoming</td>\n",
              "      <td>0.4360</td>\n",
              "      <td>WY</td>\n",
              "    </tr>\n",
              "    <tr>\n",
              "      <th>4</th>\n",
              "      <td>5</td>\n",
              "      <td>Hawaii</td>\n",
              "      <td>0.4420</td>\n",
              "      <td>HI</td>\n",
              "    </tr>\n",
              "  </tbody>\n",
              "</table>\n",
              "</div>"
            ],
            "text/plain": [
              "   num       fullname  gini index State\n",
              "0    1           Utah      0.4063    UT\n",
              "1    2         Alaska      0.4081    AK\n",
              "2    3  New Hampshire      0.4304    NH\n",
              "3    4        Wyoming      0.4360    WY\n",
              "4    5         Hawaii      0.4420    HI"
            ]
          },
          "metadata": {
            "tags": []
          },
          "execution_count": 17
        }
      ]
    },
    {
      "cell_type": "code",
      "metadata": {
        "id": "i3WowlTxOIPH",
        "colab_type": "code",
        "outputId": "5533203e-f243-4e91-cc4a-1ab6196d87bb",
        "colab": {
          "base_uri": "https://localhost:8080/",
          "height": 296
        }
      },
      "source": [
        "gini=gini[[\"State\",\"gini index\"]]\n",
        "gini.plot(x=\"State\")\n"
      ],
      "execution_count": 0,
      "outputs": [
        {
          "output_type": "execute_result",
          "data": {
            "text/plain": [
              "<matplotlib.axes._subplots.AxesSubplot at 0x7f2d5dde5be0>"
            ]
          },
          "metadata": {
            "tags": []
          },
          "execution_count": 7
        },
        {
          "output_type": "display_data",
          "data": {
            "image/png": "[encoded data removed]",
            "text/plain": [
              "<Figure size 432x288 with 1 Axes>"
            ]
          },
          "metadata": {
            "tags": [],
            "needs_background": "light"
          }
        }
      ]
    },
    {
      "cell_type": "code",
      "metadata": {
        "id": "mew2SJNKOWfI",
        "colab_type": "code",
        "colab": {}
      },
      "source": [
        "merged=edu.merge(gini,on='State')\n"
      ],
      "execution_count": 0,
      "outputs": []
    },
    {
      "cell_type": "code",
      "metadata": {
        "id": "Q0rqG49XbTCI",
        "colab_type": "code",
        "colab": {}
      },
      "source": [
        "merged=pd.merge(gini,sortededu[[\"Percent of adults with a bachelor's degree or higher, 2014-18\"]],on=\"State\")"
      ],
      "execution_count": 0,
      "outputs": []
    },
    {
      "cell_type": "code",
      "metadata": {
        "id": "j673TSmTaFw7",
        "colab_type": "code",
        "outputId": "bc113743-4385-4bfb-f475-8d968bfc1146",
        "colab": {
          "base_uri": "https://localhost:8080/",
          "height": 34
        }
      },
      "source": [
        "merged.shape\n"
      ],
      "execution_count": 0,
      "outputs": [
        {
          "output_type": "execute_result",
          "data": {
            "text/plain": [
              "(51, 3)"
            ]
          },
          "metadata": {
            "tags": []
          },
          "execution_count": 132
        }
      ]
    },
    {
      "cell_type": "code",
      "metadata": {
        "id": "0ienBR_OXyAB",
        "colab_type": "code",
        "outputId": "1eca33fb-f2f2-414f-e123-08613f57b722",
        "colab": {
          "base_uri": "https://localhost:8080/",
          "height": 279
        }
      },
      "source": [
        " import matplotlib.pyplot as plt \n",
        "\n",
        " merged.plot(x=\"State\", y=[\"Percent of adults with a bachelor's degree or higher, 2014-18\"])\n",
        " ax = merged['gini index'].plot(secondary_y=True, color='r', marker='o')\n",
        " ax.legend(['gini index'],loc=4)\n",
        " ax.set_ylabel('Gini Index')\n",
        " plt.show()"
      ],
      "execution_count": 0,
      "outputs": [
        {
          "output_type": "display_data",
          "data": {
            "image/png": "[encoded data removed]",
            "text/plain": [
              "<Figure size 432x288 with 2 Axes>"
            ]
          },
          "metadata": {
            "tags": [],
            "needs_background": "light"
          }
        }
      ]
    },
    {
      "cell_type": "code",
      "metadata": {
        "id": "sXFCN5XFfgbv",
        "colab_type": "code",
        "colab": {}
      },
      "source": [
        "crime = pd.read_csv('drive/My Drive/sue/CleanCrime1.csv')"
      ],
      "execution_count": 0,
      "outputs": []
    },
    {
      "cell_type": "code",
      "metadata": {
        "id": "GiuGKyIInsu6",
        "colab_type": "code",
        "outputId": "61f0152e-de6d-40a3-ec8b-fcb5f15a6841",
        "colab": {
          "base_uri": "https://localhost:8080/",
          "height": 275
        }
      },
      "source": [
        "crime.head()"
      ],
      "execution_count": 0,
      "outputs": [
        {
          "output_type": "execute_result",
          "data": {
            "text/html": [
              "<div>\n",
              "<style scoped>\n",
              "    .dataframe tbody tr th:only-of-type {\n",
              "        vertical-align: middle;\n",
              "    }\n",
              "\n",
              "    .dataframe tbody tr th {\n",
              "        vertical-align: top;\n",
              "    }\n",
              "\n",
              "    .dataframe thead th {\n",
              "        text-align: right;\n",
              "    }\n",
              "</style>\n",
              "<table border=\"1\" class=\"dataframe\">\n",
              "  <thead>\n",
              "    <tr style=\"text-align: right;\">\n",
              "      <th></th>\n",
              "      <th>State</th>\n",
              "      <th>States</th>\n",
              "      <th>Population</th>\n",
              "      <th>Violent crime total</th>\n",
              "      <th>Murder and nonnegligent Manslaughter</th>\n",
              "      <th>Legacy rape /1</th>\n",
              "      <th>Revised rape /2</th>\n",
              "      <th>Robbery</th>\n",
              "      <th>Aggravated assault</th>\n",
              "      <th>Property crime total</th>\n",
              "      <th>Burglary</th>\n",
              "      <th>Larceny-theft</th>\n",
              "      <th>Motor vehicle theft</th>\n",
              "      <th>Violent Crime rate</th>\n",
              "      <th>Murder and nonnegligent manslaughter rate</th>\n",
              "      <th>Legacy rape rate /1</th>\n",
              "      <th>Revised rape rate /2</th>\n",
              "      <th>Robbery rate</th>\n",
              "      <th>Aggravated assault rate</th>\n",
              "      <th>Property crime rate</th>\n",
              "      <th>Burglary rate</th>\n",
              "      <th>Larceny-theft rate</th>\n",
              "      <th>Motor vehicle theft rate</th>\n",
              "    </tr>\n",
              "  </thead>\n",
              "  <tbody>\n",
              "    <tr>\n",
              "      <th>0</th>\n",
              "      <td>AL</td>\n",
              "      <td>Alabama</td>\n",
              "      <td>4849377</td>\n",
              "      <td>20727</td>\n",
              "      <td>276</td>\n",
              "      <td>1436</td>\n",
              "      <td>2005</td>\n",
              "      <td>4701</td>\n",
              "      <td>13745</td>\n",
              "      <td>154094</td>\n",
              "      <td>39715</td>\n",
              "      <td>104238</td>\n",
              "      <td>10141</td>\n",
              "      <td>427.4</td>\n",
              "      <td>5.7</td>\n",
              "      <td>29.6</td>\n",
              "      <td>41.3</td>\n",
              "      <td>96.9</td>\n",
              "      <td>283.4</td>\n",
              "      <td>3177.6</td>\n",
              "      <td>819.0</td>\n",
              "      <td>2149.5</td>\n",
              "      <td>209.1</td>\n",
              "    </tr>\n",
              "    <tr>\n",
              "      <th>1</th>\n",
              "      <td>AK</td>\n",
              "      <td>Alaska</td>\n",
              "      <td>736732</td>\n",
              "      <td>4684</td>\n",
              "      <td>41</td>\n",
              "      <td>555</td>\n",
              "      <td>771</td>\n",
              "      <td>629</td>\n",
              "      <td>3243</td>\n",
              "      <td>20334</td>\n",
              "      <td>3150</td>\n",
              "      <td>15445</td>\n",
              "      <td>1739</td>\n",
              "      <td>635.8</td>\n",
              "      <td>5.6</td>\n",
              "      <td>75.3</td>\n",
              "      <td>104.7</td>\n",
              "      <td>85.4</td>\n",
              "      <td>440.2</td>\n",
              "      <td>2760.0</td>\n",
              "      <td>427.6</td>\n",
              "      <td>2096.4</td>\n",
              "      <td>236.0</td>\n",
              "    </tr>\n",
              "    <tr>\n",
              "      <th>2</th>\n",
              "      <td>AZ</td>\n",
              "      <td>Arizona</td>\n",
              "      <td>6731484</td>\n",
              "      <td>26916</td>\n",
              "      <td>319</td>\n",
              "      <td>2464</td>\n",
              "      <td>3378</td>\n",
              "      <td>6249</td>\n",
              "      <td>16970</td>\n",
              "      <td>215240</td>\n",
              "      <td>43562</td>\n",
              "      <td>154091</td>\n",
              "      <td>17587</td>\n",
              "      <td>399.9</td>\n",
              "      <td>4.7</td>\n",
              "      <td>36.6</td>\n",
              "      <td>50.2</td>\n",
              "      <td>92.8</td>\n",
              "      <td>252.1</td>\n",
              "      <td>3197.5</td>\n",
              "      <td>647.1</td>\n",
              "      <td>2289.1</td>\n",
              "      <td>261.3</td>\n",
              "    </tr>\n",
              "    <tr>\n",
              "      <th>3</th>\n",
              "      <td>AR</td>\n",
              "      <td>Arkansas</td>\n",
              "      <td>2966369</td>\n",
              "      <td>14243</td>\n",
              "      <td>165</td>\n",
              "      <td>1182</td>\n",
              "      <td>1763</td>\n",
              "      <td>2050</td>\n",
              "      <td>10265</td>\n",
              "      <td>99018</td>\n",
              "      <td>24790</td>\n",
              "      <td>68627</td>\n",
              "      <td>5601</td>\n",
              "      <td>480.1</td>\n",
              "      <td>5.6</td>\n",
              "      <td>39.8</td>\n",
              "      <td>59.4</td>\n",
              "      <td>69.1</td>\n",
              "      <td>346.0</td>\n",
              "      <td>3338.0</td>\n",
              "      <td>835.7</td>\n",
              "      <td>2313.5</td>\n",
              "      <td>188.8</td>\n",
              "    </tr>\n",
              "    <tr>\n",
              "      <th>4</th>\n",
              "      <td>CA</td>\n",
              "      <td>California</td>\n",
              "      <td>38802500</td>\n",
              "      <td>153709</td>\n",
              "      <td>1699</td>\n",
              "      <td>8398</td>\n",
              "      <td>11527</td>\n",
              "      <td>48680</td>\n",
              "      <td>91803</td>\n",
              "      <td>947192</td>\n",
              "      <td>202670</td>\n",
              "      <td>592670</td>\n",
              "      <td>151852</td>\n",
              "      <td>396.1</td>\n",
              "      <td>4.4</td>\n",
              "      <td>21.6</td>\n",
              "      <td>29.7</td>\n",
              "      <td>125.5</td>\n",
              "      <td>236.6</td>\n",
              "      <td>2441.1</td>\n",
              "      <td>522.3</td>\n",
              "      <td>1527.4</td>\n",
              "      <td>391.3</td>\n",
              "    </tr>\n",
              "  </tbody>\n",
              "</table>\n",
              "</div>"
            ],
            "text/plain": [
              "  State      States  ...  Larceny-theft rate  Motor vehicle theft rate\n",
              "0    AL     Alabama  ...              2149.5                     209.1\n",
              "1    AK      Alaska  ...              2096.4                     236.0\n",
              "2    AZ     Arizona  ...              2289.1                     261.3\n",
              "3    AR    Arkansas  ...              2313.5                     188.8\n",
              "4    CA  California  ...              1527.4                     391.3\n",
              "\n",
              "[5 rows x 23 columns]"
            ]
          },
          "metadata": {
            "tags": []
          },
          "execution_count": 69
        }
      ]
    },
    {
      "cell_type": "code",
      "metadata": {
        "id": "hYCHj40hntwK",
        "colab_type": "code",
        "outputId": "654bb328-69c7-4543-b41e-f73229c92868",
        "colab": {
          "base_uri": "https://localhost:8080/",
          "height": 34
        }
      },
      "source": [
        "violent=crime[[\"State\",\"Violent Crime rate\"]]\n",
        "violent.columns = violent.columns.str.strip() \n",
        "gini.columns = gini.columns.str.strip()\n",
        "violent.shape \n"
      ],
      "execution_count": 0,
      "outputs": [
        {
          "output_type": "execute_result",
          "data": {
            "text/plain": [
              "(52, 2)"
            ]
          },
          "metadata": {
            "tags": []
          },
          "execution_count": 70
        }
      ]
    },
    {
      "cell_type": "code",
      "metadata": {
        "id": "W-DaD-EQrwxZ",
        "colab_type": "code",
        "outputId": "2ff35c9a-d62e-4164-d716-458758ee9d84",
        "colab": {
          "base_uri": "https://localhost:8080/",
          "height": 918
        }
      },
      "source": [
        "#violent.head()\n",
        "#print(gini[\"State\"])\n",
        "print(violent[\"State\"])"
      ],
      "execution_count": 0,
      "outputs": [
        {
          "output_type": "stream",
          "text": [
            "0      AL\n",
            "1      AK\n",
            "2      AZ\n",
            "3      AR\n",
            "4      CA\n",
            "5      CO\n",
            "6      CT\n",
            "7      DE\n",
            "8      DC\n",
            "9      FL\n",
            "10     GA\n",
            "11     HI\n",
            "12     ID\n",
            "13     IL\n",
            "14     IN\n",
            "15     IA\n",
            "16     KS\n",
            "17     KY\n",
            "18     LA\n",
            "19     ME\n",
            "20     MD\n",
            "21     MA\n",
            "22     MI\n",
            "23     MN\n",
            "24     MS\n",
            "25     MO\n",
            "26     MT\n",
            "27     NE\n",
            "28     NV\n",
            "29     NH\n",
            "30     NJ\n",
            "31     NM\n",
            "32     NY\n",
            "33     NC\n",
            "34     ND\n",
            "35     OH\n",
            "36     OK\n",
            "37     OR\n",
            "38     PA\n",
            "39     RI\n",
            "40     SC\n",
            "41     SD\n",
            "42     TN\n",
            "43     TX\n",
            "44     UT\n",
            "45     VT\n",
            "46     VA\n",
            "47     WA\n",
            "48     WV\n",
            "49     WI\n",
            "50     WY\n",
            "51    USA\n",
            "Name: State, dtype: object\n"
          ],
          "name": "stdout"
        }
      ]
    },
    {
      "cell_type": "code",
      "metadata": {
        "id": "Rg6kxh_N21xl",
        "colab_type": "code",
        "outputId": "454566a9-d0ce-4a28-eaaa-5e10449f5619",
        "colab": {
          "base_uri": "https://localhost:8080/",
          "height": 918
        }
      },
      "source": [
        "gini=gini.sort_values([\"gini index\"])\n",
        "\n",
        "print(gini)\n"
      ],
      "execution_count": 0,
      "outputs": [
        {
          "output_type": "stream",
          "text": [
            "   State  gini index\n",
            "0     UT      0.4063\n",
            "1     AK      0.4081\n",
            "2     NH      0.4304\n",
            "3     WY      0.4360\n",
            "4     HI      0.4420\n",
            "5     IA      0.4451\n",
            "6     NE      0.4477\n",
            "7     SD      0.4495\n",
            "8     MN      0.4496\n",
            "9     WI      0.4498\n",
            "10    MD      0.4499\n",
            "11    ID      0.4503\n",
            "12    ME      0.4519\n",
            "13    DE      0.4522\n",
            "14    IN      0.4527\n",
            "15    ND      0.4533\n",
            "16    VT      0.4539\n",
            "17    KS      0.4550\n",
            "18    NV      0.4577\n",
            "19    OR      0.4583\n",
            "20    CO      0.4586\n",
            "21    WA      0.4591\n",
            "22    OK      0.4645\n",
            "23    MO      0.4646\n",
            "24    MT      0.4667\n",
            "25    OH      0.4680\n",
            "26    PA      0.4689\n",
            "27    MI      0.4695\n",
            "28    VA      0.4705\n",
            "29    WV      0.4711\n",
            "30    AZ      0.4713\n",
            "31    AR      0.4719\n",
            "32    SC      0.4735\n",
            "33    NM      0.4769\n",
            "34    NC      0.4780\n",
            "35    RI      0.4781\n",
            "36    MA      0.4786\n",
            "37    TN      0.4790\n",
            "38    TX      0.4800\n",
            "39    IL      0.4810\n",
            "40    NJ      0.4813\n",
            "41    KY      0.4813\n",
            "42    GA      0.4813\n",
            "43    MS      0.4828\n",
            "44    AL      0.4847\n",
            "45    FL      0.4852\n",
            "46   USA      0.4860\n",
            "47    CA      0.4899\n",
            "48    CT      0.4945\n",
            "49    LA      0.4990\n",
            "50    NY      0.5229\n",
            "51    DC      0.5420\n"
          ],
          "name": "stdout"
        }
      ]
    },
    {
      "cell_type": "code",
      "metadata": {
        "id": "qcnaKUy6pCbu",
        "colab_type": "code",
        "colab": {}
      },
      "source": [
        "# merged=violent.merge(gini,on='State')\n",
        "violentmerged=gini.merge(violent,on='State')\n"
      ],
      "execution_count": 0,
      "outputs": []
    },
    {
      "cell_type": "code",
      "metadata": {
        "id": "S_kMq7-jtySV",
        "colab_type": "code",
        "outputId": "7ca1f2ae-4a5a-4e6a-8d7c-e6cd160440ee",
        "colab": {
          "base_uri": "https://localhost:8080/",
          "height": 204
        }
      },
      "source": [
        "violentmerged.head()"
      ],
      "execution_count": 0,
      "outputs": [
        {
          "output_type": "execute_result",
          "data": {
            "text/html": [
              "<div>\n",
              "<style scoped>\n",
              "    .dataframe tbody tr th:only-of-type {\n",
              "        vertical-align: middle;\n",
              "    }\n",
              "\n",
              "    .dataframe tbody tr th {\n",
              "        vertical-align: top;\n",
              "    }\n",
              "\n",
              "    .dataframe thead th {\n",
              "        text-align: right;\n",
              "    }\n",
              "</style>\n",
              "<table border=\"1\" class=\"dataframe\">\n",
              "  <thead>\n",
              "    <tr style=\"text-align: right;\">\n",
              "      <th></th>\n",
              "      <th>State</th>\n",
              "      <th>gini index</th>\n",
              "      <th>Violent Crime rate</th>\n",
              "    </tr>\n",
              "  </thead>\n",
              "  <tbody>\n",
              "    <tr>\n",
              "      <th>0</th>\n",
              "      <td>UT</td>\n",
              "      <td>0.4063</td>\n",
              "      <td>215.6</td>\n",
              "    </tr>\n",
              "    <tr>\n",
              "      <th>1</th>\n",
              "      <td>AK</td>\n",
              "      <td>0.4081</td>\n",
              "      <td>635.8</td>\n",
              "    </tr>\n",
              "    <tr>\n",
              "      <th>2</th>\n",
              "      <td>NH</td>\n",
              "      <td>0.4304</td>\n",
              "      <td>196.1</td>\n",
              "    </tr>\n",
              "    <tr>\n",
              "      <th>3</th>\n",
              "      <td>WY</td>\n",
              "      <td>0.4360</td>\n",
              "      <td>195.5</td>\n",
              "    </tr>\n",
              "    <tr>\n",
              "      <th>4</th>\n",
              "      <td>HI</td>\n",
              "      <td>0.4420</td>\n",
              "      <td>259.2</td>\n",
              "    </tr>\n",
              "  </tbody>\n",
              "</table>\n",
              "</div>"
            ],
            "text/plain": [
              "  State  gini index  Violent Crime rate\n",
              "0    UT      0.4063               215.6\n",
              "1    AK      0.4081               635.8\n",
              "2    NH      0.4304               196.1\n",
              "3    WY      0.4360               195.5\n",
              "4    HI      0.4420               259.2"
            ]
          },
          "metadata": {
            "tags": []
          },
          "execution_count": 150
        }
      ]
    },
    {
      "cell_type": "code",
      "metadata": {
        "id": "U5nuPZHh-h_U",
        "colab_type": "code",
        "outputId": "62dbbb54-9adb-4e92-e976-be647b83bd40",
        "colab": {
          "base_uri": "https://localhost:8080/",
          "height": 279
        }
      },
      "source": [
        " violentmerged.plot(x=\"State\", y=[\"Violent Crime rate\"])\n",
        " ax = merged['gini index'].plot(secondary_y=True, color='r', marker='o')\n",
        " ax.set_ylabel('Gini Index')\n",
        " ax.legend(['gini index','Violent Crime rate'],loc=4)\n",
        " plt.show()"
      ],
      "execution_count": 0,
      "outputs": [
        {
          "output_type": "display_data",
          "data": {
            "image/png": "[encoded data removed]",
            "text/plain": [
              "<Figure size 432x288 with 2 Axes>"
            ]
          },
          "metadata": {
            "tags": [],
            "needs_background": "light"
          }
        }
      ]
    },
    {
      "cell_type": "code",
      "metadata": {
        "id": "3EdLFw4w-xcd",
        "colab_type": "code",
        "colab": {}
      },
      "source": [
        "burgle=crime[[\"State\",\"Burglary rate\"]]\n",
        "burglemerged=gini.merge(burgle,on='State')\n"
      ],
      "execution_count": 0,
      "outputs": []
    },
    {
      "cell_type": "code",
      "metadata": {
        "id": "UMwiwwE1I4LZ",
        "colab_type": "code",
        "outputId": "d0d62a86-f707-4120-9797-aa42dab3ee39",
        "colab": {
          "base_uri": "https://localhost:8080/",
          "height": 279
        }
      },
      "source": [
        " burglemerged.plot(x=\"State\", y=[\"Burglary rate\"]).legend(bbox_to_anchor=(20, 20))\n",
        " ax = merged['gini index'].plot(secondary_y=True, color='r', marker='o')\n",
        " ax.set_ylabel('Gini Index') \n",
        " plt.legend(loc='lower right')\n",
        " plt.show()"
      ],
      "execution_count": 0,
      "outputs": [
        {
          "output_type": "display_data",
          "data": {
            "image/png": "[encoded data removed]",
            "text/plain": [
              "<Figure size 432x288 with 2 Axes>"
            ]
          },
          "metadata": {
            "tags": [],
            "needs_background": "light"
          }
        }
      ]
    },
    {
      "cell_type": "code",
      "metadata": {
        "id": "uc_Rp2sMI_B3",
        "colab_type": "code",
        "colab": {}
      },
      "source": [
        "larceny=crime[[\"State\",\"Larceny-theft rate\"]]\n",
        "larcenymerged=gini.merge(larceny,on='State')"
      ],
      "execution_count": 0,
      "outputs": []
    },
    {
      "cell_type": "code",
      "metadata": {
        "id": "o82f5C62UIz4",
        "colab_type": "code",
        "outputId": "7d566dfd-b713-43f3-f511-43e755fea282",
        "colab": {
          "base_uri": "https://localhost:8080/",
          "height": 279
        }
      },
      "source": [
        " larcenymerged.plot(x=\"State\", y=[\"Larceny-theft rate\"]).legend(bbox_to_anchor=(20, 20))\n",
        " ax = merged['gini index'].plot(secondary_y=True, color='r', marker='o')\n",
        " ax.set_ylabel('Gini Index') \n",
        " plt.legend(loc='lower right')\n",
        " plt.show()"
      ],
      "execution_count": 0,
      "outputs": [
        {
          "output_type": "display_data",
          "data": {
            "image/png": "[encoded data removed]",
            "text/plain": [
              "<Figure size 432x288 with 2 Axes>"
            ]
          },
          "metadata": {
            "tags": [],
            "needs_background": "light"
          }
        }
      ]
    },
    {
      "cell_type": "code",
      "metadata": {
        "id": "EGZcQ7twUnex",
        "colab_type": "code",
        "colab": {}
      },
      "source": [
        "rape=crime[[\"State\",\"Legacy rape rate /1\"]]\n",
        "rapemerged=gini.merge(rape,on='State')"
      ],
      "execution_count": 0,
      "outputs": []
    },
    {
      "cell_type": "code",
      "metadata": {
        "id": "6BnwXpYwU7g4",
        "colab_type": "code",
        "outputId": "761c6fc0-a195-408c-8444-c5eed7728aee",
        "colab": {
          "base_uri": "https://localhost:8080/",
          "height": 204
        }
      },
      "source": [
        "rapemerged.head()"
      ],
      "execution_count": 0,
      "outputs": [
        {
          "output_type": "execute_result",
          "data": {
            "text/html": [
              "<div>\n",
              "<style scoped>\n",
              "    .dataframe tbody tr th:only-of-type {\n",
              "        vertical-align: middle;\n",
              "    }\n",
              "\n",
              "    .dataframe tbody tr th {\n",
              "        vertical-align: top;\n",
              "    }\n",
              "\n",
              "    .dataframe thead th {\n",
              "        text-align: right;\n",
              "    }\n",
              "</style>\n",
              "<table border=\"1\" class=\"dataframe\">\n",
              "  <thead>\n",
              "    <tr style=\"text-align: right;\">\n",
              "      <th></th>\n",
              "      <th>State</th>\n",
              "      <th>gini index</th>\n",
              "      <th>Legacy rape rate /1</th>\n",
              "    </tr>\n",
              "  </thead>\n",
              "  <tbody>\n",
              "    <tr>\n",
              "      <th>0</th>\n",
              "      <td>UT</td>\n",
              "      <td>0.4063</td>\n",
              "      <td>32.1</td>\n",
              "    </tr>\n",
              "    <tr>\n",
              "      <th>1</th>\n",
              "      <td>AK</td>\n",
              "      <td>0.4081</td>\n",
              "      <td>75.3</td>\n",
              "    </tr>\n",
              "    <tr>\n",
              "      <th>2</th>\n",
              "      <td>NH</td>\n",
              "      <td>0.4304</td>\n",
              "      <td>34.5</td>\n",
              "    </tr>\n",
              "    <tr>\n",
              "      <th>3</th>\n",
              "      <td>WY</td>\n",
              "      <td>0.4360</td>\n",
              "      <td>21.6</td>\n",
              "    </tr>\n",
              "    <tr>\n",
              "      <th>4</th>\n",
              "      <td>HI</td>\n",
              "      <td>0.4420</td>\n",
              "      <td>22.1</td>\n",
              "    </tr>\n",
              "  </tbody>\n",
              "</table>\n",
              "</div>"
            ],
            "text/plain": [
              "  State  gini index  Legacy rape rate /1\n",
              "0    UT      0.4063                 32.1\n",
              "1    AK      0.4081                 75.3\n",
              "2    NH      0.4304                 34.5\n",
              "3    WY      0.4360                 21.6\n",
              "4    HI      0.4420                 22.1"
            ]
          },
          "metadata": {
            "tags": []
          },
          "execution_count": 197
        }
      ]
    },
    {
      "cell_type": "code",
      "metadata": {
        "id": "3rQjR_JFUpNp",
        "colab_type": "code",
        "outputId": "fff9172f-e291-4f5a-e821-8d33d799b2f0",
        "colab": {
          "base_uri": "https://localhost:8080/",
          "height": 279
        }
      },
      "source": [
        " rapemerged.plot(x=\"State\", y=[\"Legacy rape rate /1\"]).legend(bbox_to_anchor=(20, 20))\n",
        " ax = merged['gini index'].plot(secondary_y=True, color='r', marker='o')\n",
        " ax.set_ylabel('Gini Index') \n",
        " plt.legend(loc='lower right')\n",
        " plt.show()"
      ],
      "execution_count": 0,
      "outputs": [
        {
          "output_type": "display_data",
          "data": {
            "image/png": "[encoded data removed]",
            "text/plain": [
              "<Figure size 432x288 with 2 Axes>"
            ]
          },
          "metadata": {
            "tags": [],
            "needs_background": "light"
          }
        }
      ]
    },
    {
      "cell_type": "code",
      "metadata": {
        "id": "6bECnbzcU105",
        "colab_type": "code",
        "outputId": "1944c501-36a7-4bbc-9156-52edce135781",
        "colab": {
          "base_uri": "https://localhost:8080/",
          "height": 204
        }
      },
      "source": [
        "poverty = pd.read_csv('drive/My Drive/sue/data.csv')\n",
        "poverty.head()"
      ],
      "execution_count": 0,
      "outputs": [
        {
          "output_type": "execute_result",
          "data": {
            "text/html": [
              "<div>\n",
              "<style scoped>\n",
              "    .dataframe tbody tr th:only-of-type {\n",
              "        vertical-align: middle;\n",
              "    }\n",
              "\n",
              "    .dataframe tbody tr th {\n",
              "        vertical-align: top;\n",
              "    }\n",
              "\n",
              "    .dataframe thead th {\n",
              "        text-align: right;\n",
              "    }\n",
              "</style>\n",
              "<table border=\"1\" class=\"dataframe\">\n",
              "  <thead>\n",
              "    <tr style=\"text-align: right;\">\n",
              "      <th></th>\n",
              "      <th>rank</th>\n",
              "      <th>State</th>\n",
              "      <th>Population</th>\n",
              "      <th>Poverty</th>\n",
              "      <th>PovertyRate</th>\n",
              "    </tr>\n",
              "  </thead>\n",
              "  <tbody>\n",
              "    <tr>\n",
              "      <th>0</th>\n",
              "      <td>NaN</td>\n",
              "      <td>Mississippi</td>\n",
              "      <td>2988762</td>\n",
              "      <td>599795</td>\n",
              "      <td>0.2007</td>\n",
              "    </tr>\n",
              "    <tr>\n",
              "      <th>1</th>\n",
              "      <td>NaN</td>\n",
              "      <td>New Mexico</td>\n",
              "      <td>2092434</td>\n",
              "      <td>410389</td>\n",
              "      <td>0.1961</td>\n",
              "    </tr>\n",
              "    <tr>\n",
              "      <th>2</th>\n",
              "      <td>NaN</td>\n",
              "      <td>Louisiana</td>\n",
              "      <td>4663616</td>\n",
              "      <td>878394</td>\n",
              "      <td>0.1884</td>\n",
              "    </tr>\n",
              "    <tr>\n",
              "      <th>3</th>\n",
              "      <td>NaN</td>\n",
              "      <td>Kentucky</td>\n",
              "      <td>4440204</td>\n",
              "      <td>772080</td>\n",
              "      <td>0.1739</td>\n",
              "    </tr>\n",
              "    <tr>\n",
              "      <th>4</th>\n",
              "      <td>NaN</td>\n",
              "      <td>West Virginia</td>\n",
              "      <td>1829054</td>\n",
              "      <td>315464</td>\n",
              "      <td>0.1725</td>\n",
              "    </tr>\n",
              "  </tbody>\n",
              "</table>\n",
              "</div>"
            ],
            "text/plain": [
              "   rank          State  Population  Poverty  PovertyRate\n",
              "0   NaN    Mississippi     2988762   599795       0.2007\n",
              "1   NaN     New Mexico     2092434   410389       0.1961\n",
              "2   NaN      Louisiana     4663616   878394       0.1884\n",
              "3   NaN       Kentucky     4440204   772080       0.1739\n",
              "4   NaN  West Virginia     1829054   315464       0.1725"
            ]
          },
          "metadata": {
            "tags": []
          },
          "execution_count": 208
        }
      ]
    },
    {
      "cell_type": "code",
      "metadata": {
        "id": "Fq8LpfS9brjw",
        "colab_type": "code",
        "outputId": "b0617432-3d79-41ea-c6f7-743eb52b8402",
        "colab": {
          "base_uri": "https://localhost:8080/",
          "height": 275
        }
      },
      "source": [
        "crime.head()"
      ],
      "execution_count": 0,
      "outputs": [
        {
          "output_type": "execute_result",
          "data": {
            "text/html": [
              "<div>\n",
              "<style scoped>\n",
              "    .dataframe tbody tr th:only-of-type {\n",
              "        vertical-align: middle;\n",
              "    }\n",
              "\n",
              "    .dataframe tbody tr th {\n",
              "        vertical-align: top;\n",
              "    }\n",
              "\n",
              "    .dataframe thead th {\n",
              "        text-align: right;\n",
              "    }\n",
              "</style>\n",
              "<table border=\"1\" class=\"dataframe\">\n",
              "  <thead>\n",
              "    <tr style=\"text-align: right;\">\n",
              "      <th></th>\n",
              "      <th>State</th>\n",
              "      <th>States</th>\n",
              "      <th>Population</th>\n",
              "      <th>Violent crime total</th>\n",
              "      <th>Murder and nonnegligent Manslaughter</th>\n",
              "      <th>Legacy rape /1</th>\n",
              "      <th>Revised rape /2</th>\n",
              "      <th>Robbery</th>\n",
              "      <th>Aggravated assault</th>\n",
              "      <th>Property crime total</th>\n",
              "      <th>Burglary</th>\n",
              "      <th>Larceny-theft</th>\n",
              "      <th>Motor vehicle theft</th>\n",
              "      <th>Violent Crime rate</th>\n",
              "      <th>Murder and nonnegligent manslaughter rate</th>\n",
              "      <th>Legacy rape rate /1</th>\n",
              "      <th>Revised rape rate /2</th>\n",
              "      <th>Robbery rate</th>\n",
              "      <th>Aggravated assault rate</th>\n",
              "      <th>Property crime rate</th>\n",
              "      <th>Burglary rate</th>\n",
              "      <th>Larceny-theft rate</th>\n",
              "      <th>Motor vehicle theft rate</th>\n",
              "    </tr>\n",
              "  </thead>\n",
              "  <tbody>\n",
              "    <tr>\n",
              "      <th>0</th>\n",
              "      <td>AL</td>\n",
              "      <td>Alabama</td>\n",
              "      <td>4849377</td>\n",
              "      <td>20727</td>\n",
              "      <td>276</td>\n",
              "      <td>1436</td>\n",
              "      <td>2005</td>\n",
              "      <td>4701</td>\n",
              "      <td>13745</td>\n",
              "      <td>154094</td>\n",
              "      <td>39715</td>\n",
              "      <td>104238</td>\n",
              "      <td>10141</td>\n",
              "      <td>427.4</td>\n",
              "      <td>5.7</td>\n",
              "      <td>29.6</td>\n",
              "      <td>41.3</td>\n",
              "      <td>96.9</td>\n",
              "      <td>283.4</td>\n",
              "      <td>3177.6</td>\n",
              "      <td>819.0</td>\n",
              "      <td>2149.5</td>\n",
              "      <td>209.1</td>\n",
              "    </tr>\n",
              "    <tr>\n",
              "      <th>1</th>\n",
              "      <td>AK</td>\n",
              "      <td>Alaska</td>\n",
              "      <td>736732</td>\n",
              "      <td>4684</td>\n",
              "      <td>41</td>\n",
              "      <td>555</td>\n",
              "      <td>771</td>\n",
              "      <td>629</td>\n",
              "      <td>3243</td>\n",
              "      <td>20334</td>\n",
              "      <td>3150</td>\n",
              "      <td>15445</td>\n",
              "      <td>1739</td>\n",
              "      <td>635.8</td>\n",
              "      <td>5.6</td>\n",
              "      <td>75.3</td>\n",
              "      <td>104.7</td>\n",
              "      <td>85.4</td>\n",
              "      <td>440.2</td>\n",
              "      <td>2760.0</td>\n",
              "      <td>427.6</td>\n",
              "      <td>2096.4</td>\n",
              "      <td>236.0</td>\n",
              "    </tr>\n",
              "    <tr>\n",
              "      <th>2</th>\n",
              "      <td>AZ</td>\n",
              "      <td>Arizona</td>\n",
              "      <td>6731484</td>\n",
              "      <td>26916</td>\n",
              "      <td>319</td>\n",
              "      <td>2464</td>\n",
              "      <td>3378</td>\n",
              "      <td>6249</td>\n",
              "      <td>16970</td>\n",
              "      <td>215240</td>\n",
              "      <td>43562</td>\n",
              "      <td>154091</td>\n",
              "      <td>17587</td>\n",
              "      <td>399.9</td>\n",
              "      <td>4.7</td>\n",
              "      <td>36.6</td>\n",
              "      <td>50.2</td>\n",
              "      <td>92.8</td>\n",
              "      <td>252.1</td>\n",
              "      <td>3197.5</td>\n",
              "      <td>647.1</td>\n",
              "      <td>2289.1</td>\n",
              "      <td>261.3</td>\n",
              "    </tr>\n",
              "    <tr>\n",
              "      <th>3</th>\n",
              "      <td>AR</td>\n",
              "      <td>Arkansas</td>\n",
              "      <td>2966369</td>\n",
              "      <td>14243</td>\n",
              "      <td>165</td>\n",
              "      <td>1182</td>\n",
              "      <td>1763</td>\n",
              "      <td>2050</td>\n",
              "      <td>10265</td>\n",
              "      <td>99018</td>\n",
              "      <td>24790</td>\n",
              "      <td>68627</td>\n",
              "      <td>5601</td>\n",
              "      <td>480.1</td>\n",
              "      <td>5.6</td>\n",
              "      <td>39.8</td>\n",
              "      <td>59.4</td>\n",
              "      <td>69.1</td>\n",
              "      <td>346.0</td>\n",
              "      <td>3338.0</td>\n",
              "      <td>835.7</td>\n",
              "      <td>2313.5</td>\n",
              "      <td>188.8</td>\n",
              "    </tr>\n",
              "    <tr>\n",
              "      <th>4</th>\n",
              "      <td>CA</td>\n",
              "      <td>California</td>\n",
              "      <td>38802500</td>\n",
              "      <td>153709</td>\n",
              "      <td>1699</td>\n",
              "      <td>8398</td>\n",
              "      <td>11527</td>\n",
              "      <td>48680</td>\n",
              "      <td>91803</td>\n",
              "      <td>947192</td>\n",
              "      <td>202670</td>\n",
              "      <td>592670</td>\n",
              "      <td>151852</td>\n",
              "      <td>396.1</td>\n",
              "      <td>4.4</td>\n",
              "      <td>21.6</td>\n",
              "      <td>29.7</td>\n",
              "      <td>125.5</td>\n",
              "      <td>236.6</td>\n",
              "      <td>2441.1</td>\n",
              "      <td>522.3</td>\n",
              "      <td>1527.4</td>\n",
              "      <td>391.3</td>\n",
              "    </tr>\n",
              "  </tbody>\n",
              "</table>\n",
              "</div>"
            ],
            "text/plain": [
              "  State      States  ...  Larceny-theft rate  Motor vehicle theft rate\n",
              "0    AL     Alabama  ...              2149.5                     209.1\n",
              "1    AK      Alaska  ...              2096.4                     236.0\n",
              "2    AZ     Arizona  ...              2289.1                     261.3\n",
              "3    AR    Arkansas  ...              2313.5                     188.8\n",
              "4    CA  California  ...              1527.4                     391.3\n",
              "\n",
              "[5 rows x 23 columns]"
            ]
          },
          "metadata": {
            "tags": []
          },
          "execution_count": 200
        }
      ]
    },
    {
      "cell_type": "code",
      "metadata": {
        "id": "t1-HGFVOb4zF",
        "colab_type": "code",
        "colab": {}
      },
      "source": [
        "trans=crime[[\"State\",\"States\"]]"
      ],
      "execution_count": 0,
      "outputs": []
    },
    {
      "cell_type": "code",
      "metadata": {
        "id": "NRWGDEabcK4d",
        "colab_type": "code",
        "outputId": "e8703236-1887-4b4b-9662-1a74d7317f5c",
        "colab": {
          "base_uri": "https://localhost:8080/",
          "height": 204
        }
      },
      "source": [
        "poverty = poverty.rename(columns={'State': 'States'})\n",
        "poverty.head()"
      ],
      "execution_count": 0,
      "outputs": [
        {
          "output_type": "execute_result",
          "data": {
            "text/html": [
              "<div>\n",
              "<style scoped>\n",
              "    .dataframe tbody tr th:only-of-type {\n",
              "        vertical-align: middle;\n",
              "    }\n",
              "\n",
              "    .dataframe tbody tr th {\n",
              "        vertical-align: top;\n",
              "    }\n",
              "\n",
              "    .dataframe thead th {\n",
              "        text-align: right;\n",
              "    }\n",
              "</style>\n",
              "<table border=\"1\" class=\"dataframe\">\n",
              "  <thead>\n",
              "    <tr style=\"text-align: right;\">\n",
              "      <th></th>\n",
              "      <th>rank</th>\n",
              "      <th>States</th>\n",
              "      <th>Population</th>\n",
              "      <th>Poverty</th>\n",
              "      <th>PovertyRate</th>\n",
              "    </tr>\n",
              "  </thead>\n",
              "  <tbody>\n",
              "    <tr>\n",
              "      <th>0</th>\n",
              "      <td>NaN</td>\n",
              "      <td>Mississippi</td>\n",
              "      <td>2988762</td>\n",
              "      <td>599795</td>\n",
              "      <td>0.2007</td>\n",
              "    </tr>\n",
              "    <tr>\n",
              "      <th>1</th>\n",
              "      <td>NaN</td>\n",
              "      <td>New Mexico</td>\n",
              "      <td>2092434</td>\n",
              "      <td>410389</td>\n",
              "      <td>0.1961</td>\n",
              "    </tr>\n",
              "    <tr>\n",
              "      <th>2</th>\n",
              "      <td>NaN</td>\n",
              "      <td>Louisiana</td>\n",
              "      <td>4663616</td>\n",
              "      <td>878394</td>\n",
              "      <td>0.1884</td>\n",
              "    </tr>\n",
              "    <tr>\n",
              "      <th>3</th>\n",
              "      <td>NaN</td>\n",
              "      <td>Kentucky</td>\n",
              "      <td>4440204</td>\n",
              "      <td>772080</td>\n",
              "      <td>0.1739</td>\n",
              "    </tr>\n",
              "    <tr>\n",
              "      <th>4</th>\n",
              "      <td>NaN</td>\n",
              "      <td>West Virginia</td>\n",
              "      <td>1829054</td>\n",
              "      <td>315464</td>\n",
              "      <td>0.1725</td>\n",
              "    </tr>\n",
              "  </tbody>\n",
              "</table>\n",
              "</div>"
            ],
            "text/plain": [
              "   rank         States  Population  Poverty  PovertyRate\n",
              "0   NaN    Mississippi     2988762   599795       0.2007\n",
              "1   NaN     New Mexico     2092434   410389       0.1961\n",
              "2   NaN      Louisiana     4663616   878394       0.1884\n",
              "3   NaN       Kentucky     4440204   772080       0.1739\n",
              "4   NaN  West Virginia     1829054   315464       0.1725"
            ]
          },
          "metadata": {
            "tags": []
          },
          "execution_count": 209
        }
      ]
    },
    {
      "cell_type": "code",
      "metadata": {
        "id": "Xe_Qkjkcb92C",
        "colab_type": "code",
        "colab": {}
      },
      "source": [
        "poverty=trans.merge(poverty,on='States')"
      ],
      "execution_count": 0,
      "outputs": []
    },
    {
      "cell_type": "code",
      "metadata": {
        "id": "Okzz4i6XcDnk",
        "colab_type": "code",
        "outputId": "08ecaf8f-eb28-443e-9c80-817d485eecc2",
        "colab": {
          "base_uri": "https://localhost:8080/",
          "height": 204
        }
      },
      "source": [
        "poverty.head()"
      ],
      "execution_count": 0,
      "outputs": [
        {
          "output_type": "execute_result",
          "data": {
            "text/html": [
              "<div>\n",
              "<style scoped>\n",
              "    .dataframe tbody tr th:only-of-type {\n",
              "        vertical-align: middle;\n",
              "    }\n",
              "\n",
              "    .dataframe tbody tr th {\n",
              "        vertical-align: top;\n",
              "    }\n",
              "\n",
              "    .dataframe thead th {\n",
              "        text-align: right;\n",
              "    }\n",
              "</style>\n",
              "<table border=\"1\" class=\"dataframe\">\n",
              "  <thead>\n",
              "    <tr style=\"text-align: right;\">\n",
              "      <th></th>\n",
              "      <th>State</th>\n",
              "      <th>States</th>\n",
              "      <th>rank</th>\n",
              "      <th>Population</th>\n",
              "      <th>Poverty</th>\n",
              "      <th>PovertyRate</th>\n",
              "    </tr>\n",
              "  </thead>\n",
              "  <tbody>\n",
              "    <tr>\n",
              "      <th>0</th>\n",
              "      <td>AL</td>\n",
              "      <td>Alabama</td>\n",
              "      <td>NaN</td>\n",
              "      <td>4864680</td>\n",
              "      <td>829400</td>\n",
              "      <td>0.1705</td>\n",
              "    </tr>\n",
              "    <tr>\n",
              "      <th>1</th>\n",
              "      <td>AK</td>\n",
              "      <td>Alaska</td>\n",
              "      <td>NaN</td>\n",
              "      <td>738516</td>\n",
              "      <td>77865</td>\n",
              "      <td>0.1054</td>\n",
              "    </tr>\n",
              "    <tr>\n",
              "      <th>2</th>\n",
              "      <td>AZ</td>\n",
              "      <td>Arizona</td>\n",
              "      <td>NaN</td>\n",
              "      <td>6946685</td>\n",
              "      <td>1092192</td>\n",
              "      <td>0.1572</td>\n",
              "    </tr>\n",
              "    <tr>\n",
              "      <th>3</th>\n",
              "      <td>AR</td>\n",
              "      <td>Arkansas</td>\n",
              "      <td>NaN</td>\n",
              "      <td>2990671</td>\n",
              "      <td>510337</td>\n",
              "      <td>0.1706</td>\n",
              "    </tr>\n",
              "    <tr>\n",
              "      <th>4</th>\n",
              "      <td>CA</td>\n",
              "      <td>California</td>\n",
              "      <td>NaN</td>\n",
              "      <td>39148760</td>\n",
              "      <td>5487141</td>\n",
              "      <td>0.1402</td>\n",
              "    </tr>\n",
              "  </tbody>\n",
              "</table>\n",
              "</div>"
            ],
            "text/plain": [
              "  State      States  rank  Population  Poverty  PovertyRate\n",
              "0    AL     Alabama   NaN     4864680   829400       0.1705\n",
              "1    AK      Alaska   NaN      738516    77865       0.1054\n",
              "2    AZ     Arizona   NaN     6946685  1092192       0.1572\n",
              "3    AR    Arkansas   NaN     2990671   510337       0.1706\n",
              "4    CA  California   NaN    39148760  5487141       0.1402"
            ]
          },
          "metadata": {
            "tags": []
          },
          "execution_count": 212
        }
      ]
    },
    {
      "cell_type": "code",
      "metadata": {
        "id": "lx_VT23PcFxY",
        "colab_type": "code",
        "colab": {}
      },
      "source": [
        "povmerged=gini.merge(poverty,on='State')"
      ],
      "execution_count": 0,
      "outputs": []
    },
    {
      "cell_type": "code",
      "metadata": {
        "id": "riSAHonXcwud",
        "colab_type": "code",
        "outputId": "50a255cf-b2fe-419b-a57c-edf943aea4bb",
        "colab": {
          "base_uri": "https://localhost:8080/",
          "height": 204
        }
      },
      "source": [
        "povmerged.head()"
      ],
      "execution_count": 0,
      "outputs": [
        {
          "output_type": "execute_result",
          "data": {
            "text/html": [
              "<div>\n",
              "<style scoped>\n",
              "    .dataframe tbody tr th:only-of-type {\n",
              "        vertical-align: middle;\n",
              "    }\n",
              "\n",
              "    .dataframe tbody tr th {\n",
              "        vertical-align: top;\n",
              "    }\n",
              "\n",
              "    .dataframe thead th {\n",
              "        text-align: right;\n",
              "    }\n",
              "</style>\n",
              "<table border=\"1\" class=\"dataframe\">\n",
              "  <thead>\n",
              "    <tr style=\"text-align: right;\">\n",
              "      <th></th>\n",
              "      <th>State</th>\n",
              "      <th>gini index</th>\n",
              "      <th>States</th>\n",
              "      <th>rank</th>\n",
              "      <th>Population</th>\n",
              "      <th>Poverty</th>\n",
              "      <th>PovertyRate</th>\n",
              "    </tr>\n",
              "  </thead>\n",
              "  <tbody>\n",
              "    <tr>\n",
              "      <th>0</th>\n",
              "      <td>UT</td>\n",
              "      <td>0.4063</td>\n",
              "      <td>Utah</td>\n",
              "      <td>NaN</td>\n",
              "      <td>3045350</td>\n",
              "      <td>309904</td>\n",
              "      <td>0.1018</td>\n",
              "    </tr>\n",
              "    <tr>\n",
              "      <th>1</th>\n",
              "      <td>AK</td>\n",
              "      <td>0.4081</td>\n",
              "      <td>Alaska</td>\n",
              "      <td>NaN</td>\n",
              "      <td>738516</td>\n",
              "      <td>77865</td>\n",
              "      <td>0.1054</td>\n",
              "    </tr>\n",
              "    <tr>\n",
              "      <th>2</th>\n",
              "      <td>NH</td>\n",
              "      <td>0.4304</td>\n",
              "      <td>New Hampshire</td>\n",
              "      <td>NaN</td>\n",
              "      <td>1343622</td>\n",
              "      <td>102352</td>\n",
              "      <td>0.0762</td>\n",
              "    </tr>\n",
              "    <tr>\n",
              "      <th>3</th>\n",
              "      <td>WY</td>\n",
              "      <td>0.4360</td>\n",
              "      <td>Wyoming</td>\n",
              "      <td>NaN</td>\n",
              "      <td>581836</td>\n",
              "      <td>63311</td>\n",
              "      <td>0.1088</td>\n",
              "    </tr>\n",
              "    <tr>\n",
              "      <th>4</th>\n",
              "      <td>HI</td>\n",
              "      <td>0.4420</td>\n",
              "      <td>Hawaii</td>\n",
              "      <td>NaN</td>\n",
              "      <td>1422029</td>\n",
              "      <td>137516</td>\n",
              "      <td>0.0967</td>\n",
              "    </tr>\n",
              "  </tbody>\n",
              "</table>\n",
              "</div>"
            ],
            "text/plain": [
              "  State  gini index         States  rank  Population  Poverty  PovertyRate\n",
              "0    UT      0.4063           Utah   NaN     3045350   309904       0.1018\n",
              "1    AK      0.4081         Alaska   NaN      738516    77865       0.1054\n",
              "2    NH      0.4304  New Hampshire   NaN     1343622   102352       0.0762\n",
              "3    WY      0.4360        Wyoming   NaN      581836    63311       0.1088\n",
              "4    HI      0.4420         Hawaii   NaN     1422029   137516       0.0967"
            ]
          },
          "metadata": {
            "tags": []
          },
          "execution_count": 214
        }
      ]
    },
    {
      "cell_type": "code",
      "metadata": {
        "id": "Bu40GAkEcyRI",
        "colab_type": "code",
        "outputId": "c5237780-5f3d-4e1c-931d-d0b72d45b715",
        "colab": {
          "base_uri": "https://localhost:8080/",
          "height": 279
        }
      },
      "source": [
        " povmerged.plot(x=\"State\", y=[\"PovertyRate\"]).legend(bbox_to_anchor=(20, 20))\n",
        " ax = merged['gini index'].plot(secondary_y=True, color='r', marker='o')\n",
        " ax.set_ylabel('Gini Index') \n",
        " plt.legend(loc='lower right')\n",
        " plt.show()"
      ],
      "execution_count": 0,
      "outputs": [
        {
          "output_type": "display_data",
          "data": {
            "image/png": "[encoded data removed]",
            "text/plain": [
              "<Figure size 432x288 with 2 Axes>"
            ]
          },
          "metadata": {
            "tags": [],
            "needs_background": "light"
          }
        }
      ]
    },
    {
      "cell_type": "code",
      "metadata": {
        "id": "z5NpXJJRfQut",
        "colab_type": "code",
        "colab": {}
      },
      "source": [
        ""
      ],
      "execution_count": 0,
      "outputs": []
    },
    {
      "cell_type": "markdown",
      "metadata": {
        "id": "sjjlmOMNd2a6",
        "colab_type": "text"
      },
      "source": [
        "**For Poverty rate its homelessness/population**"
      ]
    },
    {
      "cell_type": "code",
      "metadata": {
        "id": "18ugqeGSc6iu",
        "colab_type": "code",
        "outputId": "2e8a8c53-be5f-4b04-9a9d-8a850f81abe5",
        "colab": {
          "base_uri": "https://localhost:8080/",
          "height": 479
        }
      },
      "source": [
        "home = pd.read_csv('drive/My Drive/sue/Home.csv')\n",
        "home.head()"
      ],
      "execution_count": 0,
      "outputs": [
        {
          "output_type": "execute_result",
          "data": {
            "text/html": [
              "<div>\n",
              "<style scoped>\n",
              "    .dataframe tbody tr th:only-of-type {\n",
              "        vertical-align: middle;\n",
              "    }\n",
              "\n",
              "    .dataframe tbody tr th {\n",
              "        vertical-align: top;\n",
              "    }\n",
              "\n",
              "    .dataframe thead th {\n",
              "        text-align: right;\n",
              "    }\n",
              "</style>\n",
              "<table border=\"1\" class=\"dataframe\">\n",
              "  <thead>\n",
              "    <tr style=\"text-align: right;\">\n",
              "      <th></th>\n",
              "      <th>RegionID</th>\n",
              "      <th>SizeRank</th>\n",
              "      <th>RegionName</th>\n",
              "      <th>RegionType</th>\n",
              "      <th>StateName</th>\n",
              "      <th>State</th>\n",
              "      <th>Metro</th>\n",
              "      <th>StateCodeFIPS</th>\n",
              "      <th>MunicipalCodeFIPS</th>\n",
              "      <th>Average Value March 2019-2020</th>\n",
              "      <th>3/31/2019</th>\n",
              "      <th>4/30/2019</th>\n",
              "      <th>5/31/2019</th>\n",
              "      <th>6/30/2019</th>\n",
              "      <th>7/31/2019</th>\n",
              "      <th>8/31/2019</th>\n",
              "      <th>9/30/2019</th>\n",
              "      <th>10/31/2019</th>\n",
              "      <th>11/30/2019</th>\n",
              "      <th>12/31/2019</th>\n",
              "      <th>1/31/2020</th>\n",
              "      <th>2/29/2020</th>\n",
              "      <th>3/31/2020</th>\n",
              "    </tr>\n",
              "  </thead>\n",
              "  <tbody>\n",
              "    <tr>\n",
              "      <th>0</th>\n",
              "      <td>3101</td>\n",
              "      <td>0</td>\n",
              "      <td>Los Angeles County</td>\n",
              "      <td>County</td>\n",
              "      <td>CA</td>\n",
              "      <td>CA</td>\n",
              "      <td>Los Angeles-Long Beach-Anaheim</td>\n",
              "      <td>6</td>\n",
              "      <td>37</td>\n",
              "      <td>640573.4615</td>\n",
              "      <td>631517</td>\n",
              "      <td>630167</td>\n",
              "      <td>630698</td>\n",
              "      <td>632055</td>\n",
              "      <td>632683</td>\n",
              "      <td>634150</td>\n",
              "      <td>636295</td>\n",
              "      <td>639331</td>\n",
              "      <td>641908</td>\n",
              "      <td>646084</td>\n",
              "      <td>650608</td>\n",
              "      <td>657464</td>\n",
              "      <td>664495</td>\n",
              "    </tr>\n",
              "    <tr>\n",
              "      <th>1</th>\n",
              "      <td>139</td>\n",
              "      <td>1</td>\n",
              "      <td>Cook County</td>\n",
              "      <td>County</td>\n",
              "      <td>IL</td>\n",
              "      <td>IL</td>\n",
              "      <td>Chicago-Naperville-Elgin</td>\n",
              "      <td>17</td>\n",
              "      <td>31</td>\n",
              "      <td>247247.8462</td>\n",
              "      <td>246887</td>\n",
              "      <td>247265</td>\n",
              "      <td>247481</td>\n",
              "      <td>247549</td>\n",
              "      <td>247860</td>\n",
              "      <td>247905</td>\n",
              "      <td>247709</td>\n",
              "      <td>247416</td>\n",
              "      <td>247110</td>\n",
              "      <td>246836</td>\n",
              "      <td>246704</td>\n",
              "      <td>246694</td>\n",
              "      <td>246806</td>\n",
              "    </tr>\n",
              "    <tr>\n",
              "      <th>2</th>\n",
              "      <td>1090</td>\n",
              "      <td>2</td>\n",
              "      <td>Harris County</td>\n",
              "      <td>County</td>\n",
              "      <td>TX</td>\n",
              "      <td>TX</td>\n",
              "      <td>Houston-The Woodlands-Sugar Land</td>\n",
              "      <td>48</td>\n",
              "      <td>201</td>\n",
              "      <td>198844.0000</td>\n",
              "      <td>196909</td>\n",
              "      <td>196658</td>\n",
              "      <td>196648</td>\n",
              "      <td>197084</td>\n",
              "      <td>197701</td>\n",
              "      <td>198241</td>\n",
              "      <td>198605</td>\n",
              "      <td>199206</td>\n",
              "      <td>199748</td>\n",
              "      <td>200350</td>\n",
              "      <td>200569</td>\n",
              "      <td>201110</td>\n",
              "      <td>202143</td>\n",
              "    </tr>\n",
              "    <tr>\n",
              "      <th>3</th>\n",
              "      <td>2402</td>\n",
              "      <td>3</td>\n",
              "      <td>Maricopa County</td>\n",
              "      <td>County</td>\n",
              "      <td>AZ</td>\n",
              "      <td>AZ</td>\n",
              "      <td>Phoenix-Mesa-Scottsdale</td>\n",
              "      <td>4</td>\n",
              "      <td>13</td>\n",
              "      <td>289799.0769</td>\n",
              "      <td>280906</td>\n",
              "      <td>281591</td>\n",
              "      <td>282451</td>\n",
              "      <td>283650</td>\n",
              "      <td>285115</td>\n",
              "      <td>286994</td>\n",
              "      <td>288669</td>\n",
              "      <td>290583</td>\n",
              "      <td>292654</td>\n",
              "      <td>295076</td>\n",
              "      <td>297501</td>\n",
              "      <td>299765</td>\n",
              "      <td>302433</td>\n",
              "    </tr>\n",
              "    <tr>\n",
              "      <th>4</th>\n",
              "      <td>2841</td>\n",
              "      <td>4</td>\n",
              "      <td>San Diego County</td>\n",
              "      <td>County</td>\n",
              "      <td>CA</td>\n",
              "      <td>CA</td>\n",
              "      <td>San Diego-Carlsbad</td>\n",
              "      <td>6</td>\n",
              "      <td>73</td>\n",
              "      <td>608644.1538</td>\n",
              "      <td>595100</td>\n",
              "      <td>597765</td>\n",
              "      <td>599583</td>\n",
              "      <td>601312</td>\n",
              "      <td>603078</td>\n",
              "      <td>604617</td>\n",
              "      <td>606428</td>\n",
              "      <td>607862</td>\n",
              "      <td>610758</td>\n",
              "      <td>614348</td>\n",
              "      <td>619380</td>\n",
              "      <td>623624</td>\n",
              "      <td>628519</td>\n",
              "    </tr>\n",
              "  </tbody>\n",
              "</table>\n",
              "</div>"
            ],
            "text/plain": [
              "   RegionID  SizeRank          RegionName  ... 1/31/2020 2/29/2020 3/31/2020\n",
              "0      3101         0  Los Angeles County  ...    650608    657464    664495\n",
              "1       139         1         Cook County  ...    246704    246694    246806\n",
              "2      1090         2       Harris County  ...    200569    201110    202143\n",
              "3      2402         3     Maricopa County  ...    297501    299765    302433\n",
              "4      2841         4    San Diego County  ...    619380    623624    628519\n",
              "\n",
              "[5 rows x 23 columns]"
            ]
          },
          "metadata": {
            "tags": []
          },
          "execution_count": 8
        }
      ]
    },
    {
      "cell_type": "code",
      "metadata": {
        "id": "AICZRfw5elqi",
        "colab_type": "code",
        "outputId": "05ba2eda-2f62-464d-a4da-02681b7406b9",
        "colab": {
          "base_uri": "https://localhost:8080/",
          "height": 204
        }
      },
      "source": [
        "home=home[[\"State\",\"3/31/2020\"]]\n",
        "home.head()"
      ],
      "execution_count": 0,
      "outputs": [
        {
          "output_type": "execute_result",
          "data": {
            "text/html": [
              "<div>\n",
              "<style scoped>\n",
              "    .dataframe tbody tr th:only-of-type {\n",
              "        vertical-align: middle;\n",
              "    }\n",
              "\n",
              "    .dataframe tbody tr th {\n",
              "        vertical-align: top;\n",
              "    }\n",
              "\n",
              "    .dataframe thead th {\n",
              "        text-align: right;\n",
              "    }\n",
              "</style>\n",
              "<table border=\"1\" class=\"dataframe\">\n",
              "  <thead>\n",
              "    <tr style=\"text-align: right;\">\n",
              "      <th></th>\n",
              "      <th>State</th>\n",
              "      <th>3/31/2020</th>\n",
              "    </tr>\n",
              "  </thead>\n",
              "  <tbody>\n",
              "    <tr>\n",
              "      <th>0</th>\n",
              "      <td>CA</td>\n",
              "      <td>664495</td>\n",
              "    </tr>\n",
              "    <tr>\n",
              "      <th>1</th>\n",
              "      <td>IL</td>\n",
              "      <td>246806</td>\n",
              "    </tr>\n",
              "    <tr>\n",
              "      <th>2</th>\n",
              "      <td>TX</td>\n",
              "      <td>202143</td>\n",
              "    </tr>\n",
              "    <tr>\n",
              "      <th>3</th>\n",
              "      <td>AZ</td>\n",
              "      <td>302433</td>\n",
              "    </tr>\n",
              "    <tr>\n",
              "      <th>4</th>\n",
              "      <td>CA</td>\n",
              "      <td>628519</td>\n",
              "    </tr>\n",
              "  </tbody>\n",
              "</table>\n",
              "</div>"
            ],
            "text/plain": [
              "  State  3/31/2020\n",
              "0    CA     664495\n",
              "1    IL     246806\n",
              "2    TX     202143\n",
              "3    AZ     302433\n",
              "4    CA     628519"
            ]
          },
          "metadata": {
            "tags": []
          },
          "execution_count": 9
        }
      ]
    },
    {
      "cell_type": "code",
      "metadata": {
        "id": "LH-PifjHe_ET",
        "colab_type": "code",
        "colab": {}
      },
      "source": [
        "home=home.groupby(['State']).mean()"
      ],
      "execution_count": 0,
      "outputs": []
    },
    {
      "cell_type": "code",
      "metadata": {
        "id": "DrUymToqfBzQ",
        "colab_type": "code",
        "outputId": "74f5fc3e-9241-4699-e488-4374fa6f1415",
        "colab": {
          "base_uri": "https://localhost:8080/",
          "height": 390
        }
      },
      "source": [
        "home.head(10)\n",
        "\n"
      ],
      "execution_count": 0,
      "outputs": [
        {
          "output_type": "execute_result",
          "data": {
            "text/html": [
              "<div>\n",
              "<style scoped>\n",
              "    .dataframe tbody tr th:only-of-type {\n",
              "        vertical-align: middle;\n",
              "    }\n",
              "\n",
              "    .dataframe tbody tr th {\n",
              "        vertical-align: top;\n",
              "    }\n",
              "\n",
              "    .dataframe thead th {\n",
              "        text-align: right;\n",
              "    }\n",
              "</style>\n",
              "<table border=\"1\" class=\"dataframe\">\n",
              "  <thead>\n",
              "    <tr style=\"text-align: right;\">\n",
              "      <th></th>\n",
              "      <th>3/31/2020</th>\n",
              "    </tr>\n",
              "    <tr>\n",
              "      <th>State</th>\n",
              "      <th></th>\n",
              "    </tr>\n",
              "  </thead>\n",
              "  <tbody>\n",
              "    <tr>\n",
              "      <th>AK</th>\n",
              "      <td>299329.923077</td>\n",
              "    </tr>\n",
              "    <tr>\n",
              "      <th>AL</th>\n",
              "      <td>113157.769231</td>\n",
              "    </tr>\n",
              "    <tr>\n",
              "      <th>AR</th>\n",
              "      <td>93762.270270</td>\n",
              "    </tr>\n",
              "    <tr>\n",
              "      <th>AZ</th>\n",
              "      <td>221164.466667</td>\n",
              "    </tr>\n",
              "    <tr>\n",
              "      <th>CA</th>\n",
              "      <td>474212.137931</td>\n",
              "    </tr>\n",
              "    <tr>\n",
              "      <th>CO</th>\n",
              "      <td>310767.812500</td>\n",
              "    </tr>\n",
              "    <tr>\n",
              "      <th>CT</th>\n",
              "      <td>262869.875000</td>\n",
              "    </tr>\n",
              "    <tr>\n",
              "      <th>DC</th>\n",
              "      <td>640834.000000</td>\n",
              "    </tr>\n",
              "    <tr>\n",
              "      <th>DE</th>\n",
              "      <td>263119.333333</td>\n",
              "    </tr>\n",
              "    <tr>\n",
              "      <th>FL</th>\n",
              "      <td>207008.835821</td>\n",
              "    </tr>\n",
              "  </tbody>\n",
              "</table>\n",
              "</div>"
            ],
            "text/plain": [
              "           3/31/2020\n",
              "State               \n",
              "AK     299329.923077\n",
              "AL     113157.769231\n",
              "AR      93762.270270\n",
              "AZ     221164.466667\n",
              "CA     474212.137931\n",
              "CO     310767.812500\n",
              "CT     262869.875000\n",
              "DC     640834.000000\n",
              "DE     263119.333333\n",
              "FL     207008.835821"
            ]
          },
          "metadata": {
            "tags": []
          },
          "execution_count": 14
        }
      ]
    },
    {
      "cell_type": "code",
      "metadata": {
        "id": "M-R4ijAjfL0g",
        "colab_type": "code",
        "colab": {}
      },
      "source": [
        "homemerged=gini.merge(home,on='State')"
      ],
      "execution_count": 0,
      "outputs": []
    },
    {
      "cell_type": "code",
      "metadata": {
        "id": "lFAgKB_YfRxB",
        "colab_type": "code",
        "outputId": "650f4e77-71e5-4237-85bd-73101a517b7d",
        "colab": {
          "base_uri": "https://localhost:8080/",
          "height": 229
        }
      },
      "source": [
        " homemerged.plot(x=\"State\", y=[\"3/31/2020\"]).legend(bbox_to_anchor=(20, 20))\n",
        " ax = merged['gini index'].plot(secondary_y=True, color='r', marker='o')\n",
        " ax.set_ylabel('Gini Index') \n",
        " plt.legend(loc='lower right')\n",
        " plt.show()"
      ],
      "execution_count": 0,
      "outputs": [
        {
          "output_type": "error",
          "ename": "NameError",
          "evalue": "ignored",
          "traceback": [
            "\u001b[0;31m---------------------------------------------------------------------------\u001b[0m",
            "\u001b[0;31mNameError\u001b[0m                                 Traceback (most recent call last)",
            "\u001b[0;32m<ipython-input-1-af3493b43f5c>\u001b[0m in \u001b[0;36m<module>\u001b[0;34m()\u001b[0m\n\u001b[0;32m----> 1\u001b[0;31m \u001b[0mhomemerged\u001b[0m\u001b[0;34m.\u001b[0m\u001b[0mplot\u001b[0m\u001b[0;34m(\u001b[0m\u001b[0mx\u001b[0m\u001b[0;34m=\u001b[0m\u001b[0;34m\"State\"\u001b[0m\u001b[0;34m,\u001b[0m \u001b[0my\u001b[0m\u001b[0;34m=\u001b[0m\u001b[0;34m[\u001b[0m\u001b[0;34m\"Average Value\"\u001b[0m\u001b[0;34m]\u001b[0m\u001b[0;34m)\u001b[0m\u001b[0;34m.\u001b[0m\u001b[0mlegend\u001b[0m\u001b[0;34m(\u001b[0m\u001b[0mbbox_to_anchor\u001b[0m\u001b[0;34m=\u001b[0m\u001b[0;34m(\u001b[0m\u001b[0;36m20\u001b[0m\u001b[0;34m,\u001b[0m \u001b[0;36m20\u001b[0m\u001b[0;34m)\u001b[0m\u001b[0;34m)\u001b[0m\u001b[0;34m\u001b[0m\u001b[0;34m\u001b[0m\u001b[0m\n\u001b[0m\u001b[1;32m      2\u001b[0m \u001b[0max\u001b[0m \u001b[0;34m=\u001b[0m \u001b[0mmerged\u001b[0m\u001b[0;34m[\u001b[0m\u001b[0;34m'gini index'\u001b[0m\u001b[0;34m]\u001b[0m\u001b[0;34m.\u001b[0m\u001b[0mplot\u001b[0m\u001b[0;34m(\u001b[0m\u001b[0msecondary_y\u001b[0m\u001b[0;34m=\u001b[0m\u001b[0;32mTrue\u001b[0m\u001b[0;34m,\u001b[0m \u001b[0mcolor\u001b[0m\u001b[0;34m=\u001b[0m\u001b[0;34m'r'\u001b[0m\u001b[0;34m,\u001b[0m \u001b[0mmarker\u001b[0m\u001b[0;34m=\u001b[0m\u001b[0;34m'o'\u001b[0m\u001b[0;34m)\u001b[0m\u001b[0;34m\u001b[0m\u001b[0;34m\u001b[0m\u001b[0m\n\u001b[1;32m      3\u001b[0m \u001b[0max\u001b[0m\u001b[0;34m.\u001b[0m\u001b[0mset_ylabel\u001b[0m\u001b[0;34m(\u001b[0m\u001b[0;34m'Gini Index'\u001b[0m\u001b[0;34m)\u001b[0m\u001b[0;34m\u001b[0m\u001b[0;34m\u001b[0m\u001b[0m\n\u001b[1;32m      4\u001b[0m \u001b[0mplt\u001b[0m\u001b[0;34m.\u001b[0m\u001b[0mlegend\u001b[0m\u001b[0;34m(\u001b[0m\u001b[0mloc\u001b[0m\u001b[0;34m=\u001b[0m\u001b[0;34m'lower right'\u001b[0m\u001b[0;34m)\u001b[0m\u001b[0;34m\u001b[0m\u001b[0;34m\u001b[0m\u001b[0m\n\u001b[1;32m      5\u001b[0m \u001b[0mplt\u001b[0m\u001b[0;34m.\u001b[0m\u001b[0mshow\u001b[0m\u001b[0;34m(\u001b[0m\u001b[0;34m)\u001b[0m\u001b[0;34m\u001b[0m\u001b[0;34m\u001b[0m\u001b[0m\n",
            "\u001b[0;31mNameError\u001b[0m: name 'homemerged' is not defined"
          ]
        }
      ]
    },
    {
      "cell_type": "code",
      "metadata": {
        "id": "3Z-VDJKyfaic",
        "colab_type": "code",
        "colab": {}
      },
      "source": [
        "union = pd.read_csv('drive/My Drive/sue/Union.csv')\n"
      ],
      "execution_count": 0,
      "outputs": []
    },
    {
      "cell_type": "code",
      "metadata": {
        "id": "Nuf2fKcYC1RO",
        "colab_type": "code",
        "outputId": "17b877db-549a-4d13-d826-37d8e597f246",
        "colab": {
          "base_uri": "https://localhost:8080/",
          "height": 292
        }
      },
      "source": [
        "union.head()\n"
      ],
      "execution_count": 0,
      "outputs": [
        {
          "output_type": "execute_result",
          "data": {
            "text/html": [
              "<div>\n",
              "<style scoped>\n",
              "    .dataframe tbody tr th:only-of-type {\n",
              "        vertical-align: middle;\n",
              "    }\n",
              "\n",
              "    .dataframe tbody tr th {\n",
              "        vertical-align: top;\n",
              "    }\n",
              "\n",
              "    .dataframe thead th {\n",
              "        text-align: right;\n",
              "    }\n",
              "</style>\n",
              "<table border=\"1\" class=\"dataframe\">\n",
              "  <thead>\n",
              "    <tr style=\"text-align: right;\">\n",
              "      <th></th>\n",
              "      <th>state</th>\n",
              "      <th>State</th>\n",
              "      <th>Total Employed 2018</th>\n",
              "      <th>Total members 2018</th>\n",
              "      <th>Percent of employed 2018</th>\n",
              "      <th>total represented by unions 2018</th>\n",
              "      <th>Percent of employed represented by unions 2018</th>\n",
              "      <th>Total employed 2019</th>\n",
              "      <th>Total members 2018.1</th>\n",
              "      <th>Percent of employed 2019</th>\n",
              "      <th>total represented by unions 2019</th>\n",
              "      <th>Percent of employed represented by unions 2019</th>\n",
              "    </tr>\n",
              "  </thead>\n",
              "  <tbody>\n",
              "    <tr>\n",
              "      <th>0</th>\n",
              "      <td>AL</td>\n",
              "      <td>Alabama</td>\n",
              "      <td>1,950</td>\n",
              "      <td>180</td>\n",
              "      <td>9.2</td>\n",
              "      <td>196</td>\n",
              "      <td>10.1</td>\n",
              "      <td>2,041</td>\n",
              "      <td>173</td>\n",
              "      <td>8.5</td>\n",
              "      <td>199</td>\n",
              "      <td>9.8</td>\n",
              "    </tr>\n",
              "    <tr>\n",
              "      <th>1</th>\n",
              "      <td>AK</td>\n",
              "      <td>Alaska</td>\n",
              "      <td>299</td>\n",
              "      <td>55</td>\n",
              "      <td>18.5</td>\n",
              "      <td>60</td>\n",
              "      <td>20.0</td>\n",
              "      <td>282</td>\n",
              "      <td>48</td>\n",
              "      <td>17.1</td>\n",
              "      <td>53</td>\n",
              "      <td>18.7</td>\n",
              "    </tr>\n",
              "    <tr>\n",
              "      <th>2</th>\n",
              "      <td>AZ</td>\n",
              "      <td>Arizona</td>\n",
              "      <td>2,943</td>\n",
              "      <td>156</td>\n",
              "      <td>5.3</td>\n",
              "      <td>191</td>\n",
              "      <td>6.5</td>\n",
              "      <td>3,028</td>\n",
              "      <td>174</td>\n",
              "      <td>5.7</td>\n",
              "      <td>214</td>\n",
              "      <td>7.1</td>\n",
              "    </tr>\n",
              "    <tr>\n",
              "      <th>3</th>\n",
              "      <td>AR</td>\n",
              "      <td>Arkansas</td>\n",
              "      <td>1,176</td>\n",
              "      <td>56</td>\n",
              "      <td>4.8</td>\n",
              "      <td>62</td>\n",
              "      <td>5.3</td>\n",
              "      <td>1,200</td>\n",
              "      <td>62</td>\n",
              "      <td>5.2</td>\n",
              "      <td>71</td>\n",
              "      <td>5.9</td>\n",
              "    </tr>\n",
              "    <tr>\n",
              "      <th>4</th>\n",
              "      <td>CA</td>\n",
              "      <td>California</td>\n",
              "      <td>16,399</td>\n",
              "      <td>2,405</td>\n",
              "      <td>14.7</td>\n",
              "      <td>2,587</td>\n",
              "      <td>15.8</td>\n",
              "      <td>16,485</td>\n",
              "      <td>2,504</td>\n",
              "      <td>15.2</td>\n",
              "      <td>2,726</td>\n",
              "      <td>16.5</td>\n",
              "    </tr>\n",
              "  </tbody>\n",
              "</table>\n",
              "</div>"
            ],
            "text/plain": [
              "  state  ... Percent of employed represented by unions 2019\n",
              "0    AL  ...                                            9.8\n",
              "1    AK  ...                                           18.7\n",
              "2    AZ  ...                                            7.1\n",
              "3    AR  ...                                            5.9\n",
              "4    CA  ...                                           16.5\n",
              "\n",
              "[5 rows x 12 columns]"
            ]
          },
          "metadata": {
            "tags": []
          },
          "execution_count": 29
        }
      ]
    },
    {
      "cell_type": "code",
      "metadata": {
        "id": "7ePGVwsdDBm7",
        "colab_type": "code",
        "outputId": "3dc3c28f-d27e-4c7f-afb1-fe33b46900e4",
        "colab": {
          "base_uri": "https://localhost:8080/",
          "height": 204
        }
      },
      "source": [
        "gini.head()"
      ],
      "execution_count": 0,
      "outputs": [
        {
          "output_type": "execute_result",
          "data": {
            "text/html": [
              "<div>\n",
              "<style scoped>\n",
              "    .dataframe tbody tr th:only-of-type {\n",
              "        vertical-align: middle;\n",
              "    }\n",
              "\n",
              "    .dataframe tbody tr th {\n",
              "        vertical-align: top;\n",
              "    }\n",
              "\n",
              "    .dataframe thead th {\n",
              "        text-align: right;\n",
              "    }\n",
              "</style>\n",
              "<table border=\"1\" class=\"dataframe\">\n",
              "  <thead>\n",
              "    <tr style=\"text-align: right;\">\n",
              "      <th></th>\n",
              "      <th>num</th>\n",
              "      <th>fullname</th>\n",
              "      <th>gini index</th>\n",
              "      <th>State</th>\n",
              "    </tr>\n",
              "  </thead>\n",
              "  <tbody>\n",
              "    <tr>\n",
              "      <th>0</th>\n",
              "      <td>1</td>\n",
              "      <td>Utah</td>\n",
              "      <td>0.4063</td>\n",
              "      <td>UT</td>\n",
              "    </tr>\n",
              "    <tr>\n",
              "      <th>1</th>\n",
              "      <td>2</td>\n",
              "      <td>Alaska</td>\n",
              "      <td>0.4081</td>\n",
              "      <td>AK</td>\n",
              "    </tr>\n",
              "    <tr>\n",
              "      <th>2</th>\n",
              "      <td>3</td>\n",
              "      <td>New Hampshire</td>\n",
              "      <td>0.4304</td>\n",
              "      <td>NH</td>\n",
              "    </tr>\n",
              "    <tr>\n",
              "      <th>3</th>\n",
              "      <td>4</td>\n",
              "      <td>Wyoming</td>\n",
              "      <td>0.4360</td>\n",
              "      <td>WY</td>\n",
              "    </tr>\n",
              "    <tr>\n",
              "      <th>4</th>\n",
              "      <td>5</td>\n",
              "      <td>Hawaii</td>\n",
              "      <td>0.4420</td>\n",
              "      <td>HI</td>\n",
              "    </tr>\n",
              "  </tbody>\n",
              "</table>\n",
              "</div>"
            ],
            "text/plain": [
              "   num       fullname  gini index State\n",
              "0    1           Utah      0.4063    UT\n",
              "1    2         Alaska      0.4081    AK\n",
              "2    3  New Hampshire      0.4304    NH\n",
              "3    4        Wyoming      0.4360    WY\n",
              "4    5         Hawaii      0.4420    HI"
            ]
          },
          "metadata": {
            "tags": []
          },
          "execution_count": 22
        }
      ]
    },
    {
      "cell_type": "code",
      "metadata": {
        "id": "UbLGs2URC3Ek",
        "colab_type": "code",
        "colab": {}
      },
      "source": [
        "unionmerged=gini.merge(union,on='state')\n"
      ],
      "execution_count": 0,
      "outputs": []
    },
    {
      "cell_type": "code",
      "metadata": {
        "id": "TyOVyS03C95L",
        "colab_type": "code",
        "outputId": "7b48b1ff-c537-4536-b918-24adabb47c53",
        "colab": {
          "base_uri": "https://localhost:8080/",
          "height": 309
        }
      },
      "source": [
        "unionmerged.head()"
      ],
      "execution_count": 0,
      "outputs": [
        {
          "output_type": "execute_result",
          "data": {
            "text/html": [
              "<div>\n",
              "<style scoped>\n",
              "    .dataframe tbody tr th:only-of-type {\n",
              "        vertical-align: middle;\n",
              "    }\n",
              "\n",
              "    .dataframe tbody tr th {\n",
              "        vertical-align: top;\n",
              "    }\n",
              "\n",
              "    .dataframe thead th {\n",
              "        text-align: right;\n",
              "    }\n",
              "</style>\n",
              "<table border=\"1\" class=\"dataframe\">\n",
              "  <thead>\n",
              "    <tr style=\"text-align: right;\">\n",
              "      <th></th>\n",
              "      <th>num</th>\n",
              "      <th>fullname</th>\n",
              "      <th>gini index</th>\n",
              "      <th>state</th>\n",
              "      <th>State</th>\n",
              "      <th>Total Employed 2018</th>\n",
              "      <th>Total members 2018</th>\n",
              "      <th>Percent of employed 2018</th>\n",
              "      <th>total represented by unions 2018</th>\n",
              "      <th>Percent of employed represented by unions 2018</th>\n",
              "      <th>Total employed 2019</th>\n",
              "      <th>Total members 2018.1</th>\n",
              "      <th>Percent of employed 2019</th>\n",
              "      <th>total represented by unions 2019</th>\n",
              "      <th>Percent of employed represented by unions 2019</th>\n",
              "    </tr>\n",
              "  </thead>\n",
              "  <tbody>\n",
              "    <tr>\n",
              "      <th>0</th>\n",
              "      <td>1</td>\n",
              "      <td>Utah</td>\n",
              "      <td>0.4063</td>\n",
              "      <td>UT</td>\n",
              "      <td>Utah</td>\n",
              "      <td>1,343</td>\n",
              "      <td>56</td>\n",
              "      <td>4.1</td>\n",
              "      <td>76</td>\n",
              "      <td>5.7</td>\n",
              "      <td>1,409</td>\n",
              "      <td>62</td>\n",
              "      <td>4.4</td>\n",
              "      <td>83</td>\n",
              "      <td>5.9</td>\n",
              "    </tr>\n",
              "    <tr>\n",
              "      <th>1</th>\n",
              "      <td>2</td>\n",
              "      <td>Alaska</td>\n",
              "      <td>0.4081</td>\n",
              "      <td>AK</td>\n",
              "      <td>Alaska</td>\n",
              "      <td>299</td>\n",
              "      <td>55</td>\n",
              "      <td>18.5</td>\n",
              "      <td>60</td>\n",
              "      <td>20.0</td>\n",
              "      <td>282</td>\n",
              "      <td>48</td>\n",
              "      <td>17.1</td>\n",
              "      <td>53</td>\n",
              "      <td>18.7</td>\n",
              "    </tr>\n",
              "    <tr>\n",
              "      <th>2</th>\n",
              "      <td>3</td>\n",
              "      <td>New Hampshire</td>\n",
              "      <td>0.4304</td>\n",
              "      <td>NH</td>\n",
              "      <td>New Hampshire</td>\n",
              "      <td>664</td>\n",
              "      <td>68</td>\n",
              "      <td>10.2</td>\n",
              "      <td>77</td>\n",
              "      <td>11.6</td>\n",
              "      <td>677</td>\n",
              "      <td>69</td>\n",
              "      <td>10.3</td>\n",
              "      <td>79</td>\n",
              "      <td>11.6</td>\n",
              "    </tr>\n",
              "    <tr>\n",
              "      <th>3</th>\n",
              "      <td>4</td>\n",
              "      <td>Wyoming</td>\n",
              "      <td>0.4360</td>\n",
              "      <td>WY</td>\n",
              "      <td>Wyoming</td>\n",
              "      <td>235</td>\n",
              "      <td>15</td>\n",
              "      <td>6.5</td>\n",
              "      <td>18</td>\n",
              "      <td>7.7</td>\n",
              "      <td>243</td>\n",
              "      <td>18</td>\n",
              "      <td>7.3</td>\n",
              "      <td>21</td>\n",
              "      <td>8.7</td>\n",
              "    </tr>\n",
              "    <tr>\n",
              "      <th>4</th>\n",
              "      <td>5</td>\n",
              "      <td>Hawaii</td>\n",
              "      <td>0.4420</td>\n",
              "      <td>HI</td>\n",
              "      <td>Hawaii</td>\n",
              "      <td>601</td>\n",
              "      <td>139</td>\n",
              "      <td>23.1</td>\n",
              "      <td>146</td>\n",
              "      <td>24.3</td>\n",
              "      <td>574</td>\n",
              "      <td>135</td>\n",
              "      <td>23.5</td>\n",
              "      <td>147</td>\n",
              "      <td>25.5</td>\n",
              "    </tr>\n",
              "  </tbody>\n",
              "</table>\n",
              "</div>"
            ],
            "text/plain": [
              "   num  ... Percent of employed represented by unions 2019\n",
              "0    1  ...                                            5.9\n",
              "1    2  ...                                           18.7\n",
              "2    3  ...                                           11.6\n",
              "3    4  ...                                            8.7\n",
              "4    5  ...                                           25.5\n",
              "\n",
              "[5 rows x 15 columns]"
            ]
          },
          "metadata": {
            "tags": []
          },
          "execution_count": 26
        }
      ]
    },
    {
      "cell_type": "code",
      "metadata": {
        "id": "w4D-r0dKC_TI",
        "colab_type": "code",
        "outputId": "468044a7-fa8e-4d54-a00e-08199b22d25b",
        "colab": {
          "base_uri": "https://localhost:8080/",
          "height": 477
        }
      },
      "source": [
        " unionmerged.plot(x=\"state\", y=[\"Percent of employed represented by unions 2019\"]).legend(bbox_to_anchor=(20, 20))\n",
        " ax = gini['gini index'].plot(secondary_y=True, color='r', marker='o')\n",
        " ax.set_ylabel('Gini Index') \n",
        " plt.legend(loc='lower right')\n",
        " plt.show()"
      ],
      "execution_count": 0,
      "outputs": [
        {
          "output_type": "error",
          "ename": "NameError",
          "evalue": "ignored",
          "traceback": [
            "\u001b[0;31m---------------------------------------------------------------------------\u001b[0m",
            "\u001b[0;31mNameError\u001b[0m                                 Traceback (most recent call last)",
            "\u001b[0;32m<ipython-input-28-ee1f73bcd14e>\u001b[0m in \u001b[0;36m<module>\u001b[0;34m()\u001b[0m\n\u001b[1;32m      2\u001b[0m \u001b[0max\u001b[0m \u001b[0;34m=\u001b[0m \u001b[0mgini\u001b[0m\u001b[0;34m[\u001b[0m\u001b[0;34m'gini index'\u001b[0m\u001b[0;34m]\u001b[0m\u001b[0;34m.\u001b[0m\u001b[0mplot\u001b[0m\u001b[0;34m(\u001b[0m\u001b[0msecondary_y\u001b[0m\u001b[0;34m=\u001b[0m\u001b[0;32mTrue\u001b[0m\u001b[0;34m,\u001b[0m \u001b[0mcolor\u001b[0m\u001b[0;34m=\u001b[0m\u001b[0;34m'r'\u001b[0m\u001b[0;34m,\u001b[0m \u001b[0mmarker\u001b[0m\u001b[0;34m=\u001b[0m\u001b[0;34m'o'\u001b[0m\u001b[0;34m)\u001b[0m\u001b[0;34m\u001b[0m\u001b[0;34m\u001b[0m\u001b[0m\n\u001b[1;32m      3\u001b[0m \u001b[0max\u001b[0m\u001b[0;34m.\u001b[0m\u001b[0mset_ylabel\u001b[0m\u001b[0;34m(\u001b[0m\u001b[0;34m'Gini Index'\u001b[0m\u001b[0;34m)\u001b[0m\u001b[0;34m\u001b[0m\u001b[0;34m\u001b[0m\u001b[0m\n\u001b[0;32m----> 4\u001b[0;31m \u001b[0mplt\u001b[0m\u001b[0;34m.\u001b[0m\u001b[0mlegend\u001b[0m\u001b[0;34m(\u001b[0m\u001b[0mloc\u001b[0m\u001b[0;34m=\u001b[0m\u001b[0;34m'lower right'\u001b[0m\u001b[0;34m)\u001b[0m\u001b[0;34m\u001b[0m\u001b[0;34m\u001b[0m\u001b[0m\n\u001b[0m\u001b[1;32m      5\u001b[0m \u001b[0mplt\u001b[0m\u001b[0;34m.\u001b[0m\u001b[0mshow\u001b[0m\u001b[0;34m(\u001b[0m\u001b[0;34m)\u001b[0m\u001b[0;34m\u001b[0m\u001b[0;34m\u001b[0m\u001b[0m\n",
            "\u001b[0;31mNameError\u001b[0m: name 'plt' is not defined"
          ]
        },
        {
          "output_type": "display_data",
          "data": {
            "image/png": "[encoded data removed]",
            "text/plain": [
              "<Figure size 432x288 with 2 Axes>"
            ]
          },
          "metadata": {
            "tags": [],
            "needs_background": "light"
          }
        }
      ]
    },
    {
      "cell_type": "code",
      "metadata": {
        "id": "6T6MHDk6DhC2",
        "colab_type": "code",
        "colab": {}
      },
      "source": [
        ""
      ],
      "execution_count": 0,
      "outputs": []
    }
  ]
}